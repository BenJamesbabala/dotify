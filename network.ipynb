{
 "cells": [
  {
   "cell_type": "code",
   "execution_count": 2,
   "metadata": {
    "collapsed": true
   },
   "outputs": [],
   "source": [
    "from itertools import combinations\n",
    "\n",
    "import matplotlib.pyplot as plt\n",
    "import networkx as nx\n",
    "import pandas as pd\n",
    "\n",
    "plt.figure(figsize=(20,20))\n",
    "%matplotlib inline"
   ]
  },
  {
   "cell_type": "markdown",
   "metadata": {},
   "source": [
    "### Define some variables\n",
    "- Number of songs 2 countries must have in common in order to form an edge\n",
    "- Songs in top X songs that must be in common. For example, if `SONGS_IN_COMMON_IN_TOP_X` = 1, and `TOP_X` = 5, then 2 countries must have a song in common in their respective top 5 songs to be considered linked\n",
    "- Metadata fields that constitute an equivalence between songs"
   ]
  },
  {
   "cell_type": "code",
   "execution_count": 3,
   "metadata": {
    "collapsed": false
   },
   "outputs": [],
   "source": [
    "SONGS_IN_COMMON_IN_TOP_X = 5\n",
    "TOP_X = 10\n",
    "SONG_METADATA_FIELDS = ['Track Name', 'Artist']\n",
    "G = nx.Graph()"
   ]
  },
  {
   "cell_type": "markdown",
   "metadata": {},
   "source": [
    "### Load song data from disk"
   ]
  },
  {
   "cell_type": "code",
   "execution_count": 4,
   "metadata": {
    "collapsed": true
   },
   "outputs": [],
   "source": [
    "country_abbrevations = {\n",
    "    'United States': 'us',\n",
    "    'United Kingdom': 'gb',\n",
    "    'Andorra': 'ad',\n",
    "    'Argentina': 'ar',\n",
    "    'Australia': 'au',\n",
    "    'Austria': 'at',\n",
    "    'Belgium': 'be',\n",
    "    'Bolivia': 'bo',\n",
    "    'Brazil': 'br',\n",
    "    'Bulgaria': 'bg',\n",
    "    'Canada': 'ca',\n",
    "    'Chile': 'cl',\n",
    "    'Colombia': 'co',\n",
    "    'Costa': 'cr',\n",
    "    'Cyprus': 'cy',\n",
    "    'Czech': 'cz',\n",
    "    'Denmark': 'dk',\n",
    "    'Dominican Republic': 'do',\n",
    "    'Ecuador': 'ec',\n",
    "    'El Salvador': 'sv',\n",
    "    'Estonia': 'ee',\n",
    "    'Finland': 'fi',\n",
    "    'France': 'fr',\n",
    "    'Germany': 'de',\n",
    "    'Greece': 'gr',\n",
    "    'Guatemala': 'gt',\n",
    "    'Honduras': 'hn',\n",
    "    'Hong Kong': 'hk',\n",
    "    'Hungary': 'hu',\n",
    "    'Iceland': 'is',\n",
    "    'Ireland': 'ie',\n",
    "    'Italy': 'it',\n",
    "    'Latvia': 'lv',\n",
    "    'Lithuania': 'lt',\n",
    "    'Luxembourg': 'lu',\n",
    "    'Malaysia': 'my',\n",
    "    'Malta': 'mt',\n",
    "    'Mexico': 'mx',\n",
    "    'Netherlands': 'nl',\n",
    "    'New Zealand': 'nz',\n",
    "    'Nicaragua': 'ni',\n",
    "    'Norway': 'no',\n",
    "    'Panama': 'pa',\n",
    "    'Paraguay': 'py',\n",
    "    'Peru': 'pe',\n",
    "    'Philippines': 'ph',\n",
    "    'Poland': 'pl',\n",
    "    'Portugal': 'pt',\n",
    "    'Singapore': 'sg',\n",
    "    'Slovakia': 'sk',\n",
    "    'Spain': 'es',\n",
    "    'Sweden': 'se',\n",
    "    'Switzerland': 'ch',\n",
    "    'Taiwan': 'tw',\n",
    "    'Turkey': 'tr',\n",
    "    'Uruguay': 'uy'\n",
    "}"
   ]
  },
  {
   "cell_type": "code",
   "execution_count": 5,
   "metadata": {
    "collapsed": true,
    "slideshow": {
     "slide_type": "-"
    }
   },
   "outputs": [],
   "source": [
    "TOP_SONGS = {}\n",
    "for country in country_abbrevations.keys():\n",
    "    path = 'data/{}.csv'.format(country_abbrevations[country])\n",
    "    TOP_SONGS[country] = pd.read_csv(path, index_col=['Position'])"
   ]
  },
  {
   "cell_type": "markdown",
   "metadata": {},
   "source": [
    "### Construct our graph, creating an edge if 2 countries share >= `SONGS_IN_COMMON` in their respective `TOP_X_SONGS`"
   ]
  },
  {
   "cell_type": "code",
   "execution_count": 12,
   "metadata": {
    "collapsed": false
   },
   "outputs": [],
   "source": [
    "for country_a, country_b in combinations(TOP_SONGS.keys(), 2):\n",
    "    top_songs_a = TOP_SONGS[country_a][SONG_METADATA_FIELDS]\n",
    "    top_songs_b = TOP_SONGS[country_b][SONG_METADATA_FIELDS]\n",
    "    top_X_a = [tuple(song) for song in top_songs_a.ix[:TOP_X].values]\n",
    "    top_X_b = [tuple(song) for song in top_songs_b.ix[:TOP_X].values]\n",
    "    songs_in_common_in_top_X = len(set(top_X_a).intersection(set(top_X_b)))\n",
    "\n",
    "    if songs_in_common_in_top_X >= SONGS_IN_COMMON_IN_TOP_X:\n",
    "        G.add_edge(country_a, country_b, weight=songs_in_common_in_top_X)"
   ]
  },
  {
   "cell_type": "markdown",
   "metadata": {},
   "source": [
    "### Who's most connected?\n",
    "- Having a high degree centrality means 2 things: people are following you, or you're following them. Either way, highly connected countries are in with the hypest tracks.\n",
    "- Having a low degree centrality, similarly, means you're not following others, and others aren't following you. The countries have a unique taste in music - for better or for worse."
   ]
  },
  {
   "cell_type": "code",
   "execution_count": 33,
   "metadata": {
    "collapsed": false
   },
   "outputs": [],
   "source": [
    "degree_centrality_df = pd.DataFrame(\n",
    "    data=pd.Series(nx.degree_centrality(G)).order(ascending=False),\n",
    "    columns=['degree_centrality']\n",
    ")"
   ]
  },
  {
   "cell_type": "markdown",
   "metadata": {},
   "source": [
    "#### Top 10"
   ]
  },
  {
   "cell_type": "code",
   "execution_count": 34,
   "metadata": {
    "collapsed": false
   },
   "outputs": [
    {
     "data": {
      "text/html": [
       "<div>\n",
       "<table border=\"1\" class=\"dataframe\">\n",
       "  <thead>\n",
       "    <tr style=\"text-align: right;\">\n",
       "      <th></th>\n",
       "      <th>degree_centrality</th>\n",
       "    </tr>\n",
       "  </thead>\n",
       "  <tbody>\n",
       "    <tr>\n",
       "      <th>Panama</th>\n",
       "      <td>0.925926</td>\n",
       "    </tr>\n",
       "    <tr>\n",
       "      <th>Dominican Republic</th>\n",
       "      <td>0.888889</td>\n",
       "    </tr>\n",
       "    <tr>\n",
       "      <th>Switzerland</th>\n",
       "      <td>0.851852</td>\n",
       "    </tr>\n",
       "    <tr>\n",
       "      <th>Guatemala</th>\n",
       "      <td>0.851852</td>\n",
       "    </tr>\n",
       "    <tr>\n",
       "      <th>Portugal</th>\n",
       "      <td>0.851852</td>\n",
       "    </tr>\n",
       "    <tr>\n",
       "      <th>Luxembourg</th>\n",
       "      <td>0.851852</td>\n",
       "    </tr>\n",
       "    <tr>\n",
       "      <th>Poland</th>\n",
       "      <td>0.833333</td>\n",
       "    </tr>\n",
       "    <tr>\n",
       "      <th>Slovakia</th>\n",
       "      <td>0.814815</td>\n",
       "    </tr>\n",
       "    <tr>\n",
       "      <th>Lithuania</th>\n",
       "      <td>0.814815</td>\n",
       "    </tr>\n",
       "    <tr>\n",
       "      <th>Brazil</th>\n",
       "      <td>0.796296</td>\n",
       "    </tr>\n",
       "  </tbody>\n",
       "</table>\n",
       "</div>"
      ],
      "text/plain": [
       "                    degree_centrality\n",
       "Panama                       0.925926\n",
       "Dominican Republic           0.888889\n",
       "Switzerland                  0.851852\n",
       "Guatemala                    0.851852\n",
       "Portugal                     0.851852\n",
       "Luxembourg                   0.851852\n",
       "Poland                       0.833333\n",
       "Slovakia                     0.814815\n",
       "Lithuania                    0.814815\n",
       "Brazil                       0.796296"
      ]
     },
     "execution_count": 34,
     "metadata": {},
     "output_type": "execute_result"
    }
   ],
   "source": [
    "degree_centrality_df.head(10)"
   ]
  },
  {
   "cell_type": "markdown",
   "metadata": {},
   "source": [
    "#### Bottom 10"
   ]
  },
  {
   "cell_type": "code",
   "execution_count": 35,
   "metadata": {
    "collapsed": false
   },
   "outputs": [
    {
     "data": {
      "text/html": [
       "<div>\n",
       "<table border=\"1\" class=\"dataframe\">\n",
       "  <thead>\n",
       "    <tr style=\"text-align: right;\">\n",
       "      <th></th>\n",
       "      <th>degree_centrality</th>\n",
       "    </tr>\n",
       "  </thead>\n",
       "  <tbody>\n",
       "    <tr>\n",
       "      <th>Norway</th>\n",
       "      <td>0.444444</td>\n",
       "    </tr>\n",
       "    <tr>\n",
       "      <th>Austria</th>\n",
       "      <td>0.407407</td>\n",
       "    </tr>\n",
       "    <tr>\n",
       "      <th>Iceland</th>\n",
       "      <td>0.370370</td>\n",
       "    </tr>\n",
       "    <tr>\n",
       "      <th>Ecuador</th>\n",
       "      <td>0.314815</td>\n",
       "    </tr>\n",
       "    <tr>\n",
       "      <th>Colombia</th>\n",
       "      <td>0.314815</td>\n",
       "    </tr>\n",
       "    <tr>\n",
       "      <th>Chile</th>\n",
       "      <td>0.314815</td>\n",
       "    </tr>\n",
       "    <tr>\n",
       "      <th>Uruguay</th>\n",
       "      <td>0.277778</td>\n",
       "    </tr>\n",
       "    <tr>\n",
       "      <th>Spain</th>\n",
       "      <td>0.240741</td>\n",
       "    </tr>\n",
       "    <tr>\n",
       "      <th>Finland</th>\n",
       "      <td>0.092593</td>\n",
       "    </tr>\n",
       "    <tr>\n",
       "      <th>Argentina</th>\n",
       "      <td>0.018519</td>\n",
       "    </tr>\n",
       "  </tbody>\n",
       "</table>\n",
       "</div>"
      ],
      "text/plain": [
       "           degree_centrality\n",
       "Norway              0.444444\n",
       "Austria             0.407407\n",
       "Iceland             0.370370\n",
       "Ecuador             0.314815\n",
       "Colombia            0.314815\n",
       "Chile               0.314815\n",
       "Uruguay             0.277778\n",
       "Spain               0.240741\n",
       "Finland             0.092593\n",
       "Argentina           0.018519"
      ]
     },
     "execution_count": 35,
     "metadata": {},
     "output_type": "execute_result"
    }
   ],
   "source": [
    "degree_centrality_df.tail(10)"
   ]
  },
  {
   "cell_type": "markdown",
   "metadata": {},
   "source": [
    "#### Distribution of degree centralities"
   ]
  },
  {
   "cell_type": "code",
   "execution_count": 36,
   "metadata": {
    "collapsed": false
   },
   "outputs": [
    {
     "data": {
      "text/plain": [
       "<matplotlib.axes._subplots.AxesSubplot at 0x1171703c8>"
      ]
     },
     "execution_count": 36,
     "metadata": {},
     "output_type": "execute_result"
    },
    {
     "data": {
      "image/png": "[encoded data removed]",
      "text/plain": [
       "<matplotlib.figure.Figure at 0x11714c208>"
      ]
     },
     "metadata": {},
     "output_type": "display_data"
    }
   ],
   "source": [
    "degree_centrality_df.degree_centrality.hist()"
   ]
  },
  {
   "cell_type": "code",
   "execution_count": null,
   "metadata": {
    "collapsed": true
   },
   "outputs": [],
   "source": []
  }
 ],
 "metadata": {
  "kernelspec": {
   "display_name": "Python 3",
   "language": "python",
   "name": "python3"
  },
  "language_info": {
   "codemirror_mode": {
    "name": "ipython",
    "version": 3
   },
   "file_extension": ".py",
   "mimetype": "text/x-python",
   "name": "python",
   "nbconvert_exporter": "python",
   "pygments_lexer": "ipython3",
   "version": "3.4.3"
  }
 },
 "nbformat": 4,
 "nbformat_minor": 0
}
