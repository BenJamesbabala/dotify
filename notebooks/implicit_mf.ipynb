{
 "cells": [
  {
   "cell_type": "code",
   "execution_count": 1,
   "metadata": {
    "collapsed": true
   },
   "outputs": [],
   "source": [
    "%load_ext autoreload\n",
    "%autoreload 2"
   ]
  },
  {
   "cell_type": "code",
   "execution_count": 2,
   "metadata": {
    "collapsed": false
   },
   "outputs": [
    {
     "name": "stdout",
     "output_type": "stream",
     "text": [
      "/Users/willwolf/Documents/dotify\n"
     ]
    }
   ],
   "source": [
    "cd .."
   ]
  },
  {
   "cell_type": "code",
   "execution_count": 19,
   "metadata": {
    "collapsed": false
   },
   "outputs": [],
   "source": [
    "import numpy as np\n",
    "import pandas as pd\n",
    "from sqlalchemy import create_engine\n",
    "\n",
    "from dotify.config import DevelopmentConfig"
   ]
  },
  {
   "cell_type": "code",
   "execution_count": 39,
   "metadata": {
    "collapsed": false
   },
   "outputs": [],
   "source": [
    "ENGINE = create_engine(DevelopmentConfig.SQLALCHEMY_DATABASE_URI)\n",
    "TOP_SONGS_QUERY = \"\"\"\n",
    "    SELECT \n",
    "        country_id, \n",
    "        song_id, \n",
    "        1. / SUM(rank) as normalized_rank\n",
    "    FROM top_songs\n",
    "    GROUP BY 1, 2\"\"\""
   ]
  },
  {
   "cell_type": "code",
   "execution_count": 40,
   "metadata": {
    "collapsed": true
   },
   "outputs": [],
   "source": [
    "top_songs_df = pd.read_sql(TOP_SONGS_QUERY, ENGINE)"
   ]
  },
  {
   "cell_type": "markdown",
   "metadata": {},
   "source": [
    "### Implicit MF"
   ]
  },
  {
   "cell_type": "code",
   "execution_count": 43,
   "metadata": {
    "collapsed": true
   },
   "outputs": [],
   "source": [
    "R_ui = top_songs_df.pivot('country_id', 'song_id', 'normalized_rank').fillna(0)"
   ]
  },
  {
   "cell_type": "code",
   "execution_count": 118,
   "metadata": {
    "collapsed": false
   },
   "outputs": [],
   "source": [
    "ALPHA = 40\n",
    "F = 30\n",
    "LAMBDA = 1"
   ]
  },
  {
   "cell_type": "code",
   "execution_count": 247,
   "metadata": {
    "collapsed": true
   },
   "outputs": [],
   "source": [
    "class UserVectors:\n",
    "    \n",
    "    def __init__(self, R_ui, f=F):\n",
    "        self.vectors = pd.DataFrame(\n",
    "            np.random.randn(R_ui.shape[0], f),\n",
    "            columns=range(f),\n",
    "            index=R_ui.index\n",
    "        )\n",
    "        \n",
    "class ItemVectors:\n",
    "    \n",
    "    def __init__(self, R_ui, f=F):\n",
    "        self.vectors = pd.DataFrame(\n",
    "            np.random.randn(R_ui.shape[1], f),\n",
    "            columns=range(f),\n",
    "            index=R_ui.columns\n",
    "        )"
   ]
  },
  {
   "cell_type": "code",
   "execution_count": 271,
   "metadata": {
    "collapsed": true
   },
   "outputs": [],
   "source": [
    "class ImplicitMF:\n",
    "    \n",
    "    def __init__(self, user_vectors_class, item_vectors_class, R_ui=R_ui, alpha=ALPHA, lmbda=LAMBDA, \n",
    "                 n_iterations=10):\n",
    "        self.user_vectors = user_vectors_class(R_ui)\n",
    "        self.item_vectors = item_vectors_class(R_ui)\n",
    "        self.P_ui = R_ui > 0\n",
    "        self.C_ui = 1 + ALPHA*R_ui\n",
    "        self.lmbda = LAMBDA\n",
    "        self.n_iterations = n_iterations\n",
    "        \n",
    "    def run(self):\n",
    "        for i in range(self.n_iterations):\n",
    "            print(i)\n",
    "            self._update_user_vectors()\n",
    "            self._update_item_vectors()\n",
    "        \n",
    "            \n",
    "    def _update_user_vectors(self):\n",
    "        YtY = self._compute_ZtZ(self.item_vectors.vectors)\n",
    "        for user in self.user_vectors.vectors.index:\n",
    "            Cu = np.diag(self.C_ui.ix[user])\n",
    "            Pu = self.P_ui.ix[user]\n",
    "            YtCuY = self._compute_ZtCuZ(YtY, self.item_vectors.vectors, Cu)\n",
    "            Xu = self._compute_updated_record(self.item_vectors.vectors, YtCuY, Cu, Pu)\n",
    "            \n",
    "            self.user_vectors.vectors.ix[user] = Xu\n",
    "            \n",
    "    def _update_item_vectors(self):\n",
    "        XtX = self._compute_ZtZ(self.user_vectors.vectors)\n",
    "        for item in self.item_vectors.vectors.index:\n",
    "            Cu = np.diag(self.C_ui[item])\n",
    "            Pu = self.P_ui[item]\n",
    "            XtCuX = self._compute_ZtCuZ(XtX, self.user_vectors.vectors, Cu)\n",
    "            Yu = self._compute_updated_record(self.user_vectors.vectors, XtCuX, Cu, Pu)\n",
    "            \n",
    "            self.item_vectors.vectors.ix[item] = Yu\n",
    "        \n",
    "    def _compute_ZtCuZ(self, ZtZ, vectors, Cu):\n",
    "        I = self._compute_I(len(Cu))\n",
    "        return ZtZ + np.dot(\n",
    "            vectors.T, \n",
    "            np.dot(Cu - I, vectors)\n",
    "        )\n",
    "    \n",
    "    def _compute_updated_record(self, vectors, ZtCuZ, Cu, Pu):\n",
    "        I = self._compute_I(len(ZtCuZ))\n",
    "        return np.dot(\n",
    "            np.dot(\n",
    "                np.dot(\n",
    "                    np.linalg.inv(ZtCuZ + self.lmbda*I), vectors.T\n",
    "                ),\n",
    "                Cu\n",
    "            ),\n",
    "            Pu\n",
    "        )\n",
    "    \n",
    "    @staticmethod\n",
    "    def _compute_ZtZ(vectors):\n",
    "        return np.dot(vectors.T, vectors)\n",
    "    \n",
    "    @staticmethod\n",
    "    def _compute_I(size):\n",
    "        return np.eye(size)"
   ]
  },
  {
   "cell_type": "code",
   "execution_count": 272,
   "metadata": {
    "collapsed": false
   },
   "outputs": [],
   "source": [
    "implicit_mf = ImplicitMF(UserVectors, ItemVectors)"
   ]
  },
  {
   "cell_type": "code",
   "execution_count": 273,
   "metadata": {
    "collapsed": false
   },
   "outputs": [
    {
     "name": "stdout",
     "output_type": "stream",
     "text": [
      "0\n",
      "1\n",
      "2\n",
      "3\n",
      "4\n",
      "5\n",
      "6\n",
      "7\n",
      "8\n",
      "9\n"
     ]
    }
   ],
   "source": [
    "implicit_mf.run()"
   ]
  },
  {
   "cell_type": "code",
   "execution_count": null,
   "metadata": {
    "collapsed": true
   },
   "outputs": [],
   "source": []
  }
 ],
 "metadata": {
  "kernelspec": {
   "display_name": "Python 3",
   "language": "python",
   "name": "python3"
  },
  "language_info": {
   "codemirror_mode": {
    "name": "ipython",
    "version": 3
   },
   "file_extension": ".py",
   "mimetype": "text/x-python",
   "name": "python",
   "nbconvert_exporter": "python",
   "pygments_lexer": "ipython3",
   "version": "3.4.3"
  }
 },
 "nbformat": 4,
 "nbformat_minor": 0
}
