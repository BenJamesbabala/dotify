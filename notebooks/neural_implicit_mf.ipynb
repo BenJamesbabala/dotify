{
 "cells": [
  {
   "cell_type": "code",
   "execution_count": 1,
   "metadata": {
    "collapsed": false
   },
   "outputs": [],
   "source": [
    "%load_ext autoreload\n",
    "%autoreload 2"
   ]
  },
  {
   "cell_type": "code",
   "execution_count": 2,
   "metadata": {
    "collapsed": false
   },
   "outputs": [
    {
     "name": "stdout",
     "output_type": "stream",
     "text": [
      "/Users/willwolf/Documents/willwolf/dotify\n"
     ]
    }
   ],
   "source": [
    "cd .."
   ]
  },
  {
   "cell_type": "code",
   "execution_count": 3,
   "metadata": {
    "collapsed": true
   },
   "outputs": [],
   "source": [
    "# delete this eventually\n",
    "\n",
    "import os\n",
    "\n",
    "os.environ['SQLALCHEMY_DATABASE_URI'] = os.environ['DIGITAL_OCEAN_SQLALCHEMY_DATABASE_URI']"
   ]
  },
  {
   "cell_type": "code",
   "execution_count": 14,
   "metadata": {
    "collapsed": false
   },
   "outputs": [],
   "source": [
    "from collections import namedtuple\n",
    "from copy import deepcopy\n",
    "import random\n",
    "\n",
    "import matplotlib.pyplot as plt\n",
    "import numpy as np\n",
    "import pandas as pd\n",
    "import seaborn as sns\n",
    "from sklearn.metrics.pairwise import cosine_similarity\n",
    "from sqlalchemy import create_engine\n",
    "\n",
    "from dotify.config import DevelopmentConfig as Config\n",
    "from dotify.recommendation.implicit_mf.ratings_matrix import RatingsMatrix\n",
    "from dotify.recommendation.implicit_mf.implicit_mf import ImplicitMF\n",
    "from dotify.resources.countries import countries as countries_lookup\n",
    "\n",
    "ENGINE = create_engine(Config.SQLALCHEMY_DATABASE_URI)\n",
    "\n",
    "%matplotlib inline"
   ]
  },
  {
   "cell_type": "code",
   "execution_count": 5,
   "metadata": {
    "collapsed": false,
    "scrolled": false
   },
   "outputs": [],
   "source": [
    "ratings_matrix = RatingsMatrix(n_top_songs=10000, eps=1e3)"
   ]
  },
  {
   "cell_type": "code",
   "execution_count": 6,
   "metadata": {
    "collapsed": false
   },
   "outputs": [
    {
     "data": {
      "text/html": [
       "<div>\n",
       "<table border=\"1\" class=\"dataframe\">\n",
       "  <thead>\n",
       "    <tr style=\"text-align: right;\">\n",
       "      <th>song_id</th>\n",
       "      <th>5552</th>\n",
       "      <th>5553</th>\n",
       "      <th>5555</th>\n",
       "      <th>5556</th>\n",
       "      <th>5557</th>\n",
       "      <th>5558</th>\n",
       "      <th>5560</th>\n",
       "      <th>5562</th>\n",
       "      <th>5565</th>\n",
       "      <th>5582</th>\n",
       "      <th>...</th>\n",
       "      <th>33062</th>\n",
       "      <th>33063</th>\n",
       "      <th>33064</th>\n",
       "      <th>33065</th>\n",
       "      <th>33066</th>\n",
       "      <th>33067</th>\n",
       "      <th>33068</th>\n",
       "      <th>33069</th>\n",
       "      <th>33070</th>\n",
       "      <th>33071</th>\n",
       "    </tr>\n",
       "    <tr>\n",
       "      <th>country_id</th>\n",
       "      <th></th>\n",
       "      <th></th>\n",
       "      <th></th>\n",
       "      <th></th>\n",
       "      <th></th>\n",
       "      <th></th>\n",
       "      <th></th>\n",
       "      <th></th>\n",
       "      <th></th>\n",
       "      <th></th>\n",
       "      <th></th>\n",
       "      <th></th>\n",
       "      <th></th>\n",
       "      <th></th>\n",
       "      <th></th>\n",
       "      <th></th>\n",
       "      <th></th>\n",
       "      <th></th>\n",
       "      <th></th>\n",
       "      <th></th>\n",
       "      <th></th>\n",
       "    </tr>\n",
       "  </thead>\n",
       "  <tbody>\n",
       "    <tr>\n",
       "      <th>1</th>\n",
       "      <td>0.000000</td>\n",
       "      <td>0.000000</td>\n",
       "      <td>0.0</td>\n",
       "      <td>0.000000</td>\n",
       "      <td>0.0</td>\n",
       "      <td>0.000000</td>\n",
       "      <td>0.0</td>\n",
       "      <td>0.0</td>\n",
       "      <td>0.0</td>\n",
       "      <td>0.000000</td>\n",
       "      <td>...</td>\n",
       "      <td>0.0</td>\n",
       "      <td>0.0</td>\n",
       "      <td>0.000000</td>\n",
       "      <td>0.000000</td>\n",
       "      <td>0.0</td>\n",
       "      <td>0.0</td>\n",
       "      <td>0.0</td>\n",
       "      <td>0.0</td>\n",
       "      <td>0.0</td>\n",
       "      <td>0.0</td>\n",
       "    </tr>\n",
       "    <tr>\n",
       "      <th>2</th>\n",
       "      <td>0.000000</td>\n",
       "      <td>0.000000</td>\n",
       "      <td>0.0</td>\n",
       "      <td>0.000000</td>\n",
       "      <td>0.0</td>\n",
       "      <td>4.045469</td>\n",
       "      <td>0.0</td>\n",
       "      <td>0.0</td>\n",
       "      <td>0.0</td>\n",
       "      <td>3.643437</td>\n",
       "      <td>...</td>\n",
       "      <td>0.0</td>\n",
       "      <td>0.0</td>\n",
       "      <td>0.000000</td>\n",
       "      <td>0.000000</td>\n",
       "      <td>0.0</td>\n",
       "      <td>0.0</td>\n",
       "      <td>0.0</td>\n",
       "      <td>0.0</td>\n",
       "      <td>0.0</td>\n",
       "      <td>0.0</td>\n",
       "    </tr>\n",
       "    <tr>\n",
       "      <th>4</th>\n",
       "      <td>2.587463</td>\n",
       "      <td>0.000000</td>\n",
       "      <td>0.0</td>\n",
       "      <td>0.000000</td>\n",
       "      <td>0.0</td>\n",
       "      <td>2.814270</td>\n",
       "      <td>0.0</td>\n",
       "      <td>0.0</td>\n",
       "      <td>0.0</td>\n",
       "      <td>0.000000</td>\n",
       "      <td>...</td>\n",
       "      <td>0.0</td>\n",
       "      <td>0.0</td>\n",
       "      <td>0.000000</td>\n",
       "      <td>0.000000</td>\n",
       "      <td>0.0</td>\n",
       "      <td>0.0</td>\n",
       "      <td>0.0</td>\n",
       "      <td>0.0</td>\n",
       "      <td>0.0</td>\n",
       "      <td>0.0</td>\n",
       "    </tr>\n",
       "    <tr>\n",
       "      <th>5</th>\n",
       "      <td>0.000000</td>\n",
       "      <td>2.961865</td>\n",
       "      <td>0.0</td>\n",
       "      <td>2.859512</td>\n",
       "      <td>0.0</td>\n",
       "      <td>3.175760</td>\n",
       "      <td>0.0</td>\n",
       "      <td>0.0</td>\n",
       "      <td>0.0</td>\n",
       "      <td>0.000000</td>\n",
       "      <td>...</td>\n",
       "      <td>0.0</td>\n",
       "      <td>0.0</td>\n",
       "      <td>0.000000</td>\n",
       "      <td>0.000000</td>\n",
       "      <td>0.0</td>\n",
       "      <td>0.0</td>\n",
       "      <td>0.0</td>\n",
       "      <td>0.0</td>\n",
       "      <td>0.0</td>\n",
       "      <td>0.0</td>\n",
       "    </tr>\n",
       "    <tr>\n",
       "      <th>6</th>\n",
       "      <td>0.000000</td>\n",
       "      <td>0.000000</td>\n",
       "      <td>0.0</td>\n",
       "      <td>0.000000</td>\n",
       "      <td>0.0</td>\n",
       "      <td>0.000000</td>\n",
       "      <td>0.0</td>\n",
       "      <td>0.0</td>\n",
       "      <td>0.0</td>\n",
       "      <td>0.000000</td>\n",
       "      <td>...</td>\n",
       "      <td>0.0</td>\n",
       "      <td>0.0</td>\n",
       "      <td>1.138153</td>\n",
       "      <td>0.961264</td>\n",
       "      <td>0.0</td>\n",
       "      <td>0.0</td>\n",
       "      <td>0.0</td>\n",
       "      <td>0.0</td>\n",
       "      <td>0.0</td>\n",
       "      <td>0.0</td>\n",
       "    </tr>\n",
       "  </tbody>\n",
       "</table>\n",
       "<p>5 rows × 2130 columns</p>\n",
       "</div>"
      ],
      "text/plain": [
       "song_id        5552      5553   5555      5556   5557      5558   5560   \\\n",
       "country_id                                                                \n",
       "1           0.000000  0.000000    0.0  0.000000    0.0  0.000000    0.0   \n",
       "2           0.000000  0.000000    0.0  0.000000    0.0  4.045469    0.0   \n",
       "4           2.587463  0.000000    0.0  0.000000    0.0  2.814270    0.0   \n",
       "5           0.000000  2.961865    0.0  2.859512    0.0  3.175760    0.0   \n",
       "6           0.000000  0.000000    0.0  0.000000    0.0  0.000000    0.0   \n",
       "\n",
       "song_id     5562   5565      5582   ...    33062  33063     33064     33065  \\\n",
       "country_id                          ...                                       \n",
       "1             0.0    0.0  0.000000  ...      0.0    0.0  0.000000  0.000000   \n",
       "2             0.0    0.0  3.643437  ...      0.0    0.0  0.000000  0.000000   \n",
       "4             0.0    0.0  0.000000  ...      0.0    0.0  0.000000  0.000000   \n",
       "5             0.0    0.0  0.000000  ...      0.0    0.0  0.000000  0.000000   \n",
       "6             0.0    0.0  0.000000  ...      0.0    0.0  1.138153  0.961264   \n",
       "\n",
       "song_id     33066  33067  33068  33069  33070  33071  \n",
       "country_id                                            \n",
       "1             0.0    0.0    0.0    0.0    0.0    0.0  \n",
       "2             0.0    0.0    0.0    0.0    0.0    0.0  \n",
       "4             0.0    0.0    0.0    0.0    0.0    0.0  \n",
       "5             0.0    0.0    0.0    0.0    0.0    0.0  \n",
       "6             0.0    0.0    0.0    0.0    0.0    0.0  \n",
       "\n",
       "[5 rows x 2130 columns]"
      ]
     },
     "execution_count": 6,
     "metadata": {},
     "output_type": "execute_result"
    }
   ],
   "source": [
    "ratings_matrix.R_ui.head()"
   ]
  },
  {
   "cell_type": "code",
   "execution_count": 7,
   "metadata": {
    "collapsed": true
   },
   "outputs": [],
   "source": [
    "# split into train, test sets"
   ]
  },
  {
   "cell_type": "code",
   "execution_count": null,
   "metadata": {
    "collapsed": false
   },
   "outputs": [],
   "source": [
    "(ratings_matrix.R_ui > 0).sum(axis=1).hist()"
   ]
  },
  {
   "cell_type": "code",
   "execution_count": null,
   "metadata": {
    "collapsed": false
   },
   "outputs": [],
   "source": [
    "np.percentile((ratings_matrix.R_ui > 0).sum(axis=1), 25)"
   ]
  },
  {
   "cell_type": "code",
   "execution_count": null,
   "metadata": {
    "collapsed": false
   },
   "outputs": [],
   "source": [
    "more_than_50_ratings_mask = (ratings_matrix.R_ui > 0).sum(axis=1) > 50"
   ]
  },
  {
   "cell_type": "code",
   "execution_count": null,
   "metadata": {
    "collapsed": false
   },
   "outputs": [],
   "source": [
    "FRACTION_TO_DROP = .2\n",
    "TRAINING_MATRIX = ratings_matrix\n",
    "VALIDATION_MATRIX = deepcopy(TRAINING_MATRIX)\n",
    "VALIDATION_MATRIX.R_ui = pd.DataFrame(0., index=TRAINING_MATRIX.R_ui.index, columns=TRAINING_MATRIX.R_ui.columns)\n",
    "\n",
    "for country_id, ratings in TRAINING_MATRIX.R_ui[more_than_50_ratings_mask].iterrows():\n",
    "    rated_songs_mask = TRAINING_MATRIX.R_ui.ix[country_id] > 0\n",
    "    rated_songs = TRAINING_MATRIX.R_ui.ix[country_id][rated_songs_mask].index.tolist()\n",
    "    nb_songs_to_drop = int( len(rated_songs)*FRACTION_TO_DROP )\n",
    "    songs_to_drop = set( random.sample(rated_songs, nb_songs_to_drop) )\n",
    "    \n",
    "    VALIDATION_MATRIX.R_ui.ix[country_id][songs_to_drop] = TRAINING_MATRIX.R_ui.ix[country_id][songs_to_drop]\n",
    "    TRAINING_MATRIX.R_ui.ix[country_id][songs_to_drop] = 0."
   ]
  },
  {
   "cell_type": "markdown",
   "metadata": {},
   "source": [
    "# evaluate"
   ]
  },
  {
   "cell_type": "code",
   "execution_count": null,
   "metadata": {
    "collapsed": true
   },
   "outputs": [],
   "source": [
    "class ExpectedPercentileRankingsEvaluator:\n",
    "    \n",
    "    def __init__(self, training_matrix, validation_matrix, predicted_preferences):\n",
    "        self.training_matrix = training_matrix\n",
    "        self.validation_matrix = validation_matrix\n",
    "        self.predicted_preferences = predicted_preferences\n",
    "        self.expected_percentile_rankings_train = []\n",
    "        self.expected_percentile_rankings_validation = []\n",
    "        \n",
    "    def run(self):\n",
    "        self._evaluate_train()\n",
    "        self._evaluate_validation()\n",
    "\n",
    "    def _evaluate_train(self):\n",
    "        self.expected_percentile_rankings_train = self._evaluate(matrix=self.training_matrix)\n",
    "        \n",
    "    def _evaluate_validation(self):\n",
    "        self.expected_percentile_rankings_validation = self._evaluate(matrix=self.validation_matrix)\n",
    "        \n",
    "    def _evaluate(self, matrix):\n",
    "        expected_percentile_rankings = []\n",
    "        for country_id, preferences in predicted_preferences[more_than_50_ratings_mask].iterrows():\n",
    "            predictions = pd.DataFrame({\n",
    "                'predicted_preference': preferences.sort_values(ascending=False),\n",
    "                'rank': np.arange( len(preferences) ),\n",
    "                'percentile_rank': np.arange( len(preferences) ) / len(preferences)\n",
    "            })\n",
    "            ground_truth = matrix.R_ui.ix[country_id][ matrix.R_ui.ix[country_id] > 0 ]\n",
    "            numerator = (ground_truth * predictions['percentile_rank'][ground_truth.index]).sum()\n",
    "            denominator = ground_truth.sum()\n",
    "            expected_percentile_rankings.append( numerator / denominator )\n",
    "\n",
    "        return expected_percentile_rankings\n",
    "    \n",
    "# with a list of expected ranking values, we could compute the entropy in this distribution"
   ]
  },
  {
   "cell_type": "code",
   "execution_count": 111,
   "metadata": {
    "collapsed": false
   },
   "outputs": [],
   "source": [
    "# let's make a visualization out of this eventually\n",
    "\n",
    "grid_search_results = {result(alpha=0.1, lmbda=0.1): {'train': 0.032407390666058453,\n",
    "  \n",
    "'validation': 0.31665039472192003},\n",
    " result(alpha=0.1, lmbda=1.0): {\n",
    "'train': 0.032059217808275829,\n",
    "  \n",
    "'validation': 0.24402526519871739},\n",
    " result(alpha=0.1, lmbda=10.0): {\n",
    "'train': 0.045523277235144662,\n",
    "  \n",
    "'validation': 0.16606585548569086},\n",
    " result(alpha=0.1, lmbda=100.0): {\n",
    "'train': 0.13769244526151611,\n",
    "  \n",
    "'validation': 0.21052119237046174},\n",
    " result(alpha=1.0, lmbda=0.1): {\n",
    "'train': 0.031713329010977634,\n",
    "  \n",
    "'validation': 0.28160772806600787},\n",
    " result(alpha=1.0, lmbda=1.0): {\n",
    "'train': 0.031724480161575093,\n",
    "  \n",
    "'validation': 0.26509705526720212},\n",
    " result(alpha=1.0, lmbda=10.0): {\n",
    "'train': 0.032602322510421271,\n",
    "  \n",
    "'validation': 0.17842803591797687},\n",
    " result(alpha=1.0, lmbda=100.0): {\n",
    "'train': 0.13826569594315918,\n",
    "  \n",
    "'validation': 0.21545848705024651},\n",
    " result(alpha=10.0, lmbda=0.1): {\n",
    "'train': 0.031434247195100157,\n",
    "  \n",
    "'validation': 0.2039108951054108},\n",
    " result(alpha=10.0, lmbda=1.0): {\n",
    "'train': 0.031299578843675971,\n",
    "  \n",
    "'validation': 0.2277074749329171},\n",
    " result(alpha=10.0, lmbda=10.0): {\n",
    "'train': 0.031127684231213384,\n",
    "  \n",
    "'validation': 0.1898255168476902},\n",
    " result(alpha=10.0, lmbda=100.0): {\n",
    "'train': 0.051315700721965694,\n",
    "  \n",
    "'validation': 0.18669700464271369},\n",
    " result(alpha=100.0, lmbda=0.1): {\n",
    "'train': 0.032712876751746674,\n",
    "  \n",
    "'validation': 0.18575014195665038},\n",
    " result(alpha=100.0, lmbda=1.0): {\n",
    "'train': 0.032677287037866626,\n",
    "  \n",
    "'validation': 0.19425985589739683},\n",
    " result(alpha=100.0, lmbda=10.0): {\n",
    "'train': 0.031940565004912803,\n",
    "  \n",
    "'validation': 0.20191916342002017},\n",
    " result(alpha=100.0, lmbda=100.0): {\n",
    "'train': 0.032361700905882793,\n",
    "  \n",
    "'validation': 0.18102583299733102}}"
   ]
  },
  {
   "cell_type": "code",
   "execution_count": 110,
   "metadata": {
    "collapsed": true
   },
   "outputs": [],
   "source": [
    "F = 30\n",
    "grid_search_results = {}\n",
    "result = namedtuple('Result', 'alpha lmbda')\n",
    "\n",
    "# for alpha in [1e-1, 1e0, 1e1, 1e2]:\n",
    "#     for lmbda in [1e-1, 1e0, 1e1, 1e2]:\n",
    "#         implicit_mf = ImplicitMF(ratings_matrix=TRAINING_MATRIX, f=F, alpha=alpha, lmbda=lmbda)\n",
    "#         implicit_mf.run()\n",
    "#         predicted_preferences = implicit_mf.country_vectors.vectors.dot( implicit_mf.song_vectors.vectors.T )\n",
    "        \n",
    "#         evaluator = ExpectedPercentileRankingsEvaluator(\n",
    "#             training_matrix=TRAINING_MATRIX,\n",
    "#             validation_matrix=VALIDATION_MATRIX,\n",
    "#             predicted_preferences=predicted_preferences\n",
    "#         )\n",
    "#         evaluator.run()\n",
    "#         grid_search_results[result(alpha=alpha, lmbda=lmbda)] = {\n",
    "#             'train': np.mean(evaluator.expected_percentile_rankings_train),\n",
    "#             'validation': np.mean(evaluator.expected_percentile_rankings_validation)\n",
    "#         }\n",
    "#         print(grid_search_results)"
   ]
  },
  {
   "cell_type": "code",
   "execution_count": 112,
   "metadata": {
    "collapsed": false
   },
   "outputs": [],
   "source": [
    "best_params = min(grid_search_results, key=lambda key: grid_search_results.get(key)['validation'])"
   ]
  },
  {
   "cell_type": "code",
   "execution_count": null,
   "metadata": {
    "collapsed": true
   },
   "outputs": [],
   "source": [
    "# train a final model"
   ]
  },
  {
   "cell_type": "code",
   "execution_count": 113,
   "metadata": {
    "collapsed": false
   },
   "outputs": [
    {
     "name": "stdout",
     "output_type": "stream",
     "text": [
      "0\n",
      "1\n",
      "2\n",
      "3\n",
      "4\n",
      "5\n",
      "6\n",
      "7\n",
      "8\n",
      "9\n"
     ]
    }
   ],
   "source": [
    "implicit_mf = ImplicitMF(ratings_matrix=ratings_matrix, f=F, alpha=best_params.alpha, lmbda=best_params.lmbda)\n",
    "implicit_mf.run()"
   ]
  },
  {
   "cell_type": "markdown",
   "metadata": {},
   "source": [
    "# save stuff we care about from the final implicit mf run"
   ]
  },
  {
   "cell_type": "code",
   "execution_count": 114,
   "metadata": {
    "collapsed": false
   },
   "outputs": [],
   "source": [
    "# implicit_mf.country_vectors.vectors.to_csv('data/country_vectors.csv')\n",
    "# implicit_mf.song_vectors.vectors.to_csv('data/song_vectors.csv')\n",
    "# implicit_mf.country_vectors.vectors = pd.read_csv('data/country_vectors.csv', index_col=['country_id'])\n",
    "# implicit_mf.song_vectors.vectors = pd.read_csv('data/song_vectors.csv', index_col=['song_id'])"
   ]
  },
  {
   "cell_type": "markdown",
   "metadata": {
    "collapsed": true
   },
   "source": [
    "## Visualize"
   ]
  },
  {
   "cell_type": "code",
   "execution_count": 115,
   "metadata": {
    "collapsed": true
   },
   "outputs": [],
   "source": [
    "country_vectors_df = implicit_mf.country_vectors.vectors"
   ]
  },
  {
   "cell_type": "code",
   "execution_count": 116,
   "metadata": {
    "collapsed": true
   },
   "outputs": [],
   "source": [
    "# change countries index form id to name"
   ]
  },
  {
   "cell_type": "code",
   "execution_count": 117,
   "metadata": {
    "collapsed": true
   },
   "outputs": [],
   "source": [
    "sns.set(style=\"white\")"
   ]
  },
  {
   "cell_type": "code",
   "execution_count": 118,
   "metadata": {
    "collapsed": false
   },
   "outputs": [],
   "source": [
    "country_id_to_name = {countries_lookup[name]['id']: name for name in countries_lookup}\n",
    "country_ids = country_vectors_df.index\n",
    "country_names = pd.Index([country_id_to_name[c_id] for c_id in country_ids], name='country_name')\n",
    "country_vectors_df.index = country_names"
   ]
  },
  {
   "cell_type": "code",
   "execution_count": 119,
   "metadata": {
    "collapsed": true
   },
   "outputs": [],
   "source": [
    "def plot_cosine_similarities(country_vectors_df):\n",
    "\n",
    "    # compute the cosine similarity matrix\n",
    "    similarities_df = pd.DataFrame(\n",
    "        data=cosine_similarity(country_vectors_df),\n",
    "        index=country_vectors_df.index,\n",
    "        columns=country_vectors_df.index\n",
    "    )\n",
    "    \n",
    "    # generate a mask for the upper triangle\n",
    "    mask = np.zeros_like(similarities_df, dtype=np.bool)\n",
    "    mask[np.triu_indices_from(mask)] = True\n",
    "\n",
    "    # set up the matplotlib figure\n",
    "    f, ax = plt.subplots(figsize=(21, 21))\n",
    "\n",
    "    # generate a custom diverging colormap\n",
    "    cmap = sns.diverging_palette(220, 10, as_cmap=True)\n",
    "\n",
    "    # draw the heatmap with the mask and correct aspect ratio\n",
    "    sns.heatmap(similarities_df, mask=mask, cmap=cmap, vmax=.5,\n",
    "                square=True, xticklabels=True, yticklabels=True,\n",
    "                linewidths=1, cbar_kws={\"shrink\": .5}, ax=ax)"
   ]
  },
  {
   "cell_type": "code",
   "execution_count": 120,
   "metadata": {
    "collapsed": false,
    "scrolled": false
   },
   "outputs": [
    {
     "data": {
      "image/png": "[encoded data removed]",
      "text/plain": [
       "<matplotlib.figure.Figure at 0x126637400>"
      ]
     },
     "metadata": {},
     "output_type": "display_data"
    }
   ],
   "source": [
    "plot_cosine_similarities(country_vectors_df)"
   ]
  },
  {
   "cell_type": "markdown",
   "metadata": {},
   "source": [
    "# tsne"
   ]
  },
  {
   "cell_type": "code",
   "execution_count": 121,
   "metadata": {
    "collapsed": true
   },
   "outputs": [],
   "source": [
    "from matplotlib import pylab\n",
    "from sklearn.manifold import TSNE"
   ]
  },
  {
   "cell_type": "code",
   "execution_count": 122,
   "metadata": {
    "collapsed": true
   },
   "outputs": [],
   "source": [
    "tsne = TSNE(perplexity=30, n_components=2, init='pca', n_iter=5000)"
   ]
  },
  {
   "cell_type": "code",
   "execution_count": 123,
   "metadata": {
    "collapsed": false
   },
   "outputs": [],
   "source": [
    "country_embeddings = pd.DataFrame(\n",
    "    data=tsne.fit_transform(country_vectors_df),\n",
    "    index=country_vectors_df.index,\n",
    "    columns=['dim_1', 'dim_2']\n",
    ")"
   ]
  },
  {
   "cell_type": "code",
   "execution_count": 124,
   "metadata": {
    "collapsed": true
   },
   "outputs": [],
   "source": [
    "def plot_tsne_embeddings(country_embeddings):\n",
    "\n",
    "    pylab.figure(figsize=(15,15))\n",
    "\n",
    "    for country_name, country_embedding in country_embeddings.iterrows():\n",
    "        dim_1, dim_2 = country_embedding\n",
    "        pylab.scatter(dim_1, dim_2)\n",
    "        pylab.annotate(country_name, xy=(dim_1, dim_2), xytext=(5, 2), textcoords='offset points',\n",
    "                   ha='right', va='bottom')\n",
    "    pylab.show()"
   ]
  },
  {
   "cell_type": "code",
   "execution_count": 125,
   "metadata": {
    "collapsed": false
   },
   "outputs": [
    {
     "data": {
      "image/png": "[encoded data removed]",
      "text/plain": [
       "<matplotlib.figure.Figure at 0x124b53f60>"
      ]
     },
     "metadata": {},
     "output_type": "display_data"
    }
   ],
   "source": [
    "plot_tsne_embeddings(country_embeddings)"
   ]
  },
  {
   "cell_type": "markdown",
   "metadata": {},
   "source": [
    "## Inspect arithmetic combinations"
   ]
  },
  {
   "cell_type": "code",
   "execution_count": 126,
   "metadata": {
    "collapsed": false
   },
   "outputs": [],
   "source": [
    "SONG_METADATA_QUERY = \"\"\"\n",
    "    SELECT \n",
    "        songs.title as song_title, \n",
    "        songs.artist as song_artist,\n",
    "        songs.id as song_id\n",
    "    FROM songs\n",
    "\"\"\"\n",
    "\n",
    "song_metadata_df = pd.read_sql(SONG_METADATA_QUERY, ENGINE, index_col=['song_id'])"
   ]
  },
  {
   "cell_type": "code",
   "execution_count": 127,
   "metadata": {
    "collapsed": false
   },
   "outputs": [],
   "source": [
    "song_vectors_df = song_metadata_df.join(implicit_mf.song_vectors.vectors, how='inner')\\\n",
    "    .set_index(['song_title', 'song_artist'])"
   ]
  },
  {
   "cell_type": "code",
   "execution_count": 128,
   "metadata": {
    "collapsed": false
   },
   "outputs": [],
   "source": [
    "country_vec = country_vectors_df.ix['United States']"
   ]
  },
  {
   "cell_type": "code",
   "execution_count": 141,
   "metadata": {
    "collapsed": false
   },
   "outputs": [],
   "source": [
    "pd.set_option('display.max_colwidth', 100)"
   ]
  },
  {
   "cell_type": "code",
   "execution_count": 143,
   "metadata": {
    "collapsed": false
   },
   "outputs": [
    {
     "data": {
      "text/html": [
       "<div>\n",
       "<table border=\"1\" class=\"dataframe\">\n",
       "  <thead>\n",
       "    <tr style=\"text-align: right;\">\n",
       "      <th></th>\n",
       "      <th>song_title</th>\n",
       "      <th>song_artist</th>\n",
       "      <th>0</th>\n",
       "    </tr>\n",
       "  </thead>\n",
       "  <tbody>\n",
       "    <tr>\n",
       "      <th>0</th>\n",
       "      <td>Shape of You</td>\n",
       "      <td>Ed Sheeran</td>\n",
       "      <td>0.947265</td>\n",
       "    </tr>\n",
       "    <tr>\n",
       "      <th>1</th>\n",
       "      <td>It Ain't Me (with Selena Gomez)</td>\n",
       "      <td>Kygo</td>\n",
       "      <td>0.943512</td>\n",
       "    </tr>\n",
       "    <tr>\n",
       "      <th>2</th>\n",
       "      <td>Something Just Like This</td>\n",
       "      <td>The Chainsmokers</td>\n",
       "      <td>0.942639</td>\n",
       "    </tr>\n",
       "    <tr>\n",
       "      <th>3</th>\n",
       "      <td>That's What I Like</td>\n",
       "      <td>Bruno Mars</td>\n",
       "      <td>0.941953</td>\n",
       "    </tr>\n",
       "    <tr>\n",
       "      <th>4</th>\n",
       "      <td>Passionfruit</td>\n",
       "      <td>Drake</td>\n",
       "      <td>0.940638</td>\n",
       "    </tr>\n",
       "    <tr>\n",
       "      <th>5</th>\n",
       "      <td>Paris</td>\n",
       "      <td>The Chainsmokers</td>\n",
       "      <td>0.940558</td>\n",
       "    </tr>\n",
       "    <tr>\n",
       "      <th>6</th>\n",
       "      <td>I Don’t Wanna Live Forever (Fifty Shades Darker) - From \"Fifty Shades Darker (Original Motion Pi...</td>\n",
       "      <td>ZAYN</td>\n",
       "      <td>0.940260</td>\n",
       "    </tr>\n",
       "    <tr>\n",
       "      <th>7</th>\n",
       "      <td>Stay (with Alessia Cara)</td>\n",
       "      <td>Zedd</td>\n",
       "      <td>0.938271</td>\n",
       "    </tr>\n",
       "    <tr>\n",
       "      <th>8</th>\n",
       "      <td>Galway Girl</td>\n",
       "      <td>Ed Sheeran</td>\n",
       "      <td>0.937455</td>\n",
       "    </tr>\n",
       "    <tr>\n",
       "      <th>9</th>\n",
       "      <td>Symphony (feat. Zara Larsson)</td>\n",
       "      <td>Clean Bandit</td>\n",
       "      <td>0.936264</td>\n",
       "    </tr>\n",
       "  </tbody>\n",
       "</table>\n",
       "</div>"
      ],
      "text/plain": [
       "                                                                                            song_title  \\\n",
       "0                                                                                         Shape of You   \n",
       "1                                                                      It Ain't Me (with Selena Gomez)   \n",
       "2                                                                             Something Just Like This   \n",
       "3                                                                                   That's What I Like   \n",
       "4                                                                                         Passionfruit   \n",
       "5                                                                                                Paris   \n",
       "6  I Don’t Wanna Live Forever (Fifty Shades Darker) - From \"Fifty Shades Darker (Original Motion Pi...   \n",
       "7                                                                             Stay (with Alessia Cara)   \n",
       "8                                                                                          Galway Girl   \n",
       "9                                                                        Symphony (feat. Zara Larsson)   \n",
       "\n",
       "        song_artist         0  \n",
       "0        Ed Sheeran  0.947265  \n",
       "1              Kygo  0.943512  \n",
       "2  The Chainsmokers  0.942639  \n",
       "3        Bruno Mars  0.941953  \n",
       "4             Drake  0.940638  \n",
       "5  The Chainsmokers  0.940558  \n",
       "6              ZAYN  0.940260  \n",
       "7              Zedd  0.938271  \n",
       "8        Ed Sheeran  0.937455  \n",
       "9      Clean Bandit  0.936264  "
      ]
     },
     "execution_count": 143,
     "metadata": {},
     "output_type": "execute_result"
    }
   ],
   "source": [
    "song_vectors_df.dot(country_vec).sort_values(ascending=False).reset_index().head(10)"
   ]
  },
  {
   "cell_type": "code",
   "execution_count": 144,
   "metadata": {
    "collapsed": true
   },
   "outputs": [],
   "source": [
    "country_vec = country_vectors_df.ix['Colombia']"
   ]
  },
  {
   "cell_type": "code",
   "execution_count": 145,
   "metadata": {
    "collapsed": false,
    "scrolled": false
   },
   "outputs": [
    {
     "data": {
      "text/html": [
       "<div>\n",
       "<table border=\"1\" class=\"dataframe\">\n",
       "  <thead>\n",
       "    <tr style=\"text-align: right;\">\n",
       "      <th></th>\n",
       "      <th>song_title</th>\n",
       "      <th>song_artist</th>\n",
       "      <th>0</th>\n",
       "    </tr>\n",
       "  </thead>\n",
       "  <tbody>\n",
       "    <tr>\n",
       "      <th>0</th>\n",
       "      <td>Don't Wanna Know</td>\n",
       "      <td>Maroon 5</td>\n",
       "      <td>0.974983</td>\n",
       "    </tr>\n",
       "    <tr>\n",
       "      <th>1</th>\n",
       "      <td>Let Me Love You</td>\n",
       "      <td>DJ Snake</td>\n",
       "      <td>0.973869</td>\n",
       "    </tr>\n",
       "    <tr>\n",
       "      <th>2</th>\n",
       "      <td>Closer</td>\n",
       "      <td>The Chainsmokers</td>\n",
       "      <td>0.972029</td>\n",
       "    </tr>\n",
       "    <tr>\n",
       "      <th>3</th>\n",
       "      <td>Despacito (Featuring Daddy Yankee)</td>\n",
       "      <td>Luis Fonsi</td>\n",
       "      <td>0.971427</td>\n",
       "    </tr>\n",
       "    <tr>\n",
       "      <th>4</th>\n",
       "      <td>Shape of You</td>\n",
       "      <td>Ed Sheeran</td>\n",
       "      <td>0.968926</td>\n",
       "    </tr>\n",
       "    <tr>\n",
       "      <th>5</th>\n",
       "      <td>I Took A Pill In Ibiza - Seeb Remix</td>\n",
       "      <td>Mike Posner</td>\n",
       "      <td>0.968618</td>\n",
       "    </tr>\n",
       "    <tr>\n",
       "      <th>6</th>\n",
       "      <td>I Feel It Coming</td>\n",
       "      <td>The Weeknd</td>\n",
       "      <td>0.965848</td>\n",
       "    </tr>\n",
       "    <tr>\n",
       "      <th>7</th>\n",
       "      <td>In the Name of Love</td>\n",
       "      <td>Martin Garrix</td>\n",
       "      <td>0.965257</td>\n",
       "    </tr>\n",
       "    <tr>\n",
       "      <th>8</th>\n",
       "      <td>It Ain't Me (with Selena Gomez)</td>\n",
       "      <td>Kygo</td>\n",
       "      <td>0.962449</td>\n",
       "    </tr>\n",
       "    <tr>\n",
       "      <th>9</th>\n",
       "      <td>Perfect</td>\n",
       "      <td>Ed Sheeran</td>\n",
       "      <td>0.962377</td>\n",
       "    </tr>\n",
       "  </tbody>\n",
       "</table>\n",
       "</div>"
      ],
      "text/plain": [
       "                            song_title       song_artist         0\n",
       "0                     Don't Wanna Know          Maroon 5  0.974983\n",
       "1                      Let Me Love You          DJ Snake  0.973869\n",
       "2                               Closer  The Chainsmokers  0.972029\n",
       "3   Despacito (Featuring Daddy Yankee)        Luis Fonsi  0.971427\n",
       "4                         Shape of You        Ed Sheeran  0.968926\n",
       "5  I Took A Pill In Ibiza - Seeb Remix       Mike Posner  0.968618\n",
       "6                     I Feel It Coming        The Weeknd  0.965848\n",
       "7                  In the Name of Love     Martin Garrix  0.965257\n",
       "8      It Ain't Me (with Selena Gomez)              Kygo  0.962449\n",
       "9                              Perfect        Ed Sheeran  0.962377"
      ]
     },
     "execution_count": 145,
     "metadata": {},
     "output_type": "execute_result"
    }
   ],
   "source": [
    "song_vectors_df.dot(country_vec).sort_values(ascending=False).reset_index().head(10)"
   ]
  },
  {
   "cell_type": "code",
   "execution_count": 146,
   "metadata": {
    "collapsed": true
   },
   "outputs": [],
   "source": [
    "country_vec = country_vectors_df.ix['Panama']"
   ]
  },
  {
   "cell_type": "code",
   "execution_count": 147,
   "metadata": {
    "collapsed": false
   },
   "outputs": [
    {
     "data": {
      "text/html": [
       "<div>\n",
       "<table border=\"1\" class=\"dataframe\">\n",
       "  <thead>\n",
       "    <tr style=\"text-align: right;\">\n",
       "      <th></th>\n",
       "      <th>song_title</th>\n",
       "      <th>song_artist</th>\n",
       "      <th>0</th>\n",
       "    </tr>\n",
       "  </thead>\n",
       "  <tbody>\n",
       "    <tr>\n",
       "      <th>0</th>\n",
       "      <td>Shape of You</td>\n",
       "      <td>Ed Sheeran</td>\n",
       "      <td>0.849492</td>\n",
       "    </tr>\n",
       "    <tr>\n",
       "      <th>1</th>\n",
       "      <td>It Ain't Me (with Selena Gomez)</td>\n",
       "      <td>Kygo</td>\n",
       "      <td>0.841565</td>\n",
       "    </tr>\n",
       "    <tr>\n",
       "      <th>2</th>\n",
       "      <td>Something Just Like This</td>\n",
       "      <td>The Chainsmokers</td>\n",
       "      <td>0.840284</td>\n",
       "    </tr>\n",
       "    <tr>\n",
       "      <th>3</th>\n",
       "      <td>That's What I Like</td>\n",
       "      <td>Bruno Mars</td>\n",
       "      <td>0.839483</td>\n",
       "    </tr>\n",
       "    <tr>\n",
       "      <th>4</th>\n",
       "      <td>Paris</td>\n",
       "      <td>The Chainsmokers</td>\n",
       "      <td>0.838639</td>\n",
       "    </tr>\n",
       "    <tr>\n",
       "      <th>5</th>\n",
       "      <td>I Don’t Wanna Live Forever (Fifty Shades Darker) - From \"Fifty Shades Darker (Original Motion Pi...</td>\n",
       "      <td>ZAYN</td>\n",
       "      <td>0.838564</td>\n",
       "    </tr>\n",
       "    <tr>\n",
       "      <th>6</th>\n",
       "      <td>Scared to Be Lonely</td>\n",
       "      <td>Martin Garrix</td>\n",
       "      <td>0.826302</td>\n",
       "    </tr>\n",
       "    <tr>\n",
       "      <th>7</th>\n",
       "      <td>Passionfruit</td>\n",
       "      <td>Drake</td>\n",
       "      <td>0.825950</td>\n",
       "    </tr>\n",
       "    <tr>\n",
       "      <th>8</th>\n",
       "      <td>Stay (with Alessia Cara)</td>\n",
       "      <td>Zedd</td>\n",
       "      <td>0.825143</td>\n",
       "    </tr>\n",
       "    <tr>\n",
       "      <th>9</th>\n",
       "      <td>Cold</td>\n",
       "      <td>Maroon 5</td>\n",
       "      <td>0.824545</td>\n",
       "    </tr>\n",
       "  </tbody>\n",
       "</table>\n",
       "</div>"
      ],
      "text/plain": [
       "                                                                                            song_title  \\\n",
       "0                                                                                         Shape of You   \n",
       "1                                                                      It Ain't Me (with Selena Gomez)   \n",
       "2                                                                             Something Just Like This   \n",
       "3                                                                                   That's What I Like   \n",
       "4                                                                                                Paris   \n",
       "5  I Don’t Wanna Live Forever (Fifty Shades Darker) - From \"Fifty Shades Darker (Original Motion Pi...   \n",
       "6                                                                                  Scared to Be Lonely   \n",
       "7                                                                                         Passionfruit   \n",
       "8                                                                             Stay (with Alessia Cara)   \n",
       "9                                                                                                 Cold   \n",
       "\n",
       "        song_artist         0  \n",
       "0        Ed Sheeran  0.849492  \n",
       "1              Kygo  0.841565  \n",
       "2  The Chainsmokers  0.840284  \n",
       "3        Bruno Mars  0.839483  \n",
       "4  The Chainsmokers  0.838639  \n",
       "5              ZAYN  0.838564  \n",
       "6     Martin Garrix  0.826302  \n",
       "7             Drake  0.825950  \n",
       "8              Zedd  0.825143  \n",
       "9          Maroon 5  0.824545  "
      ]
     },
     "execution_count": 147,
     "metadata": {},
     "output_type": "execute_result"
    }
   ],
   "source": [
    "song_vectors_df.dot(country_vec).sort_values(ascending=False).reset_index().head(10)"
   ]
  }
 ],
 "metadata": {
  "kernelspec": {
   "display_name": "Python 3",
   "language": "python",
   "name": "python3"
  },
  "language_info": {
   "codemirror_mode": {
    "name": "ipython",
    "version": 3
   },
   "file_extension": ".py",
   "mimetype": "text/x-python",
   "name": "python",
   "nbconvert_exporter": "python",
   "pygments_lexer": "ipython3",
   "version": "3.6.0"
  }
 },
 "nbformat": 4,
 "nbformat_minor": 0
}
