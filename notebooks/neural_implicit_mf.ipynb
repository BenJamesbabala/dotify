{
 "cells": [
  {
   "cell_type": "markdown",
   "metadata": {},
   "source": [
    "# Approximating Implicit Matrix Factorization with Shallow Neural Networks"
   ]
  },
  {
   "cell_type": "code",
   "execution_count": 3,
   "metadata": {},
   "outputs": [],
   "source": [
    "%load_ext autoreload\n",
    "%autoreload 2"
   ]
  },
  {
   "cell_type": "code",
   "execution_count": 4,
   "metadata": {},
   "outputs": [
    {
     "name": "stdout",
     "output_type": "stream",
     "text": [
      "/Users/willwolf/Documents/willwolf/dotify\n"
     ]
    }
   ],
   "source": [
    "cd .."
   ]
  },
  {
   "cell_type": "markdown",
   "metadata": {},
   "source": [
    "# resources\n",
    "- https://arxiv.org/pdf/1606.07674.pdf"
   ]
  },
  {
   "cell_type": "code",
   "execution_count": 5,
   "metadata": {
    "collapsed": true
   },
   "outputs": [],
   "source": [
    "# delete this eventually\n",
    "\n",
    "import os\n",
    "\n",
    "os.environ['SQLALCHEMY_DATABASE_URI'] = os.environ['DIGITAL_OCEAN_SQLALCHEMY_DATABASE_URI']"
   ]
  },
  {
   "cell_type": "code",
   "execution_count": 77,
   "metadata": {},
   "outputs": [],
   "source": [
    "from collections import namedtuple\n",
    "from copy import deepcopy\n",
    "import random\n",
    "\n",
    "import matplotlib.pyplot as plt\n",
    "import numpy as np\n",
    "import pandas as pd\n",
    "import seaborn as sns\n",
    "from sklearn.manifold import TSNE\n",
    "from sklearn.metrics.pairwise import cosine_similarity\n",
    "from sqlalchemy import create_engine\n",
    "\n",
    "from dotify.config import DevelopmentConfig as Config\n",
    "from dotify.recommendation.implicit_mf.ratings_matrix import RatingsMatrix\n",
    "from dotify.recommendation.implicit_mf.implicit_mf import ImplicitMF\n",
    "from dotify.resources.countries import countries as countries_lookup\n",
    "\n",
    "ENGINE = create_engine(Config.SQLALCHEMY_DATABASE_URI)\n",
    "\n",
    "%matplotlib inline\n",
    "plt.style.use('seaborn')"
   ]
  },
  {
   "cell_type": "markdown",
   "metadata": {},
   "source": [
    "# Abstract\n",
    "\n",
    "## Implicit Matrix Factorization\n",
    "\n",
    "The Implicit Matrix Factorization (IMF) algorithm as presented by [Hu, Koren and Volinksy](http://yifanhu.net/PUB/cf.pdf) is a widely popular, effective method for recommending items to users. This approach was born from necessity: while explicit feedback as to our users' tastes - a questionnaire completed at user signup, for example - makes building a recommendation engine straightforward, we often have nothing more than *implicit feedback* data - view count, click count, time spent on page, for example - which serve as nothing more than a proxy for these preferences. Crucially, the latter feedback is asymmetric: while a high view count might indicate positive preference for a given item, a low view count cannot be said to do the opposite. Perhaps, the user simply doesn't know the item is there.\n",
    "\n",
    "IMF begins with a ratings matrix $R$, where $R_{u, i}$ gives the implicit feedback value observed for user $u$ and item $i$. Next, it constructs two other matrices defined as follows:\n",
    "\n",
    "$$\n",
    "p_{u, i} =\n",
    "\\begin{cases}\n",
    "1 & r_{u, i} \\gt 0\\\\\n",
    "0 & r_{u, i} = 0\n",
    "\\end{cases}\n",
    "$$\n",
    "<br>\n",
    "$$\n",
    "c_{u, i} = 1 + \\alpha r_{u, i}\n",
    "$$\n",
    "\n",
    "$P$ gives a binary matrix indicating our belief in the existence of each user's preference for each item. $C$ gives our *confidence* in the existence of each user's preference for each items where, trivially, larger values of $r_{u, i}$ give us higher confidence that user $u$ indeed likes item $i$.\n",
    "\n",
    "Next, IMF outlines its goal: let's embed each user and item into $\\mathbb{R}^f$ such that their dot product approximates the former's true preference for the latter. Finally, and naming user vectors $x_u \\in \\mathbb{R}^f$ and item vectors $y_i \\in \\mathbb{R}^f$, we compute the argmin of the following objective:\n",
    "\n",
    "$$\n",
    "\\underset{x_{*}, y_{*}}{\\arg\\min}\\sum\\limits_{u, i}c_{u, i}\\big(p_{u, i} - x_u^Ty_i\\big)^2 + \\lambda\\bigg(\\sum\\limits_u\\|x_u\\|^2 + \\sum\\limits_i\\|y_u\\|^2\\bigg)\n",
    "$$\n",
    "\n",
    "Once sufficiently minimized, we can compute expected preferences $\\hat{p}_{u, i} = x_u^Ty_i$ for unobserved $\\text{(user, item)}$ pairs; recommendation then becomes:\n",
    "1. For a given user $u$, compute predicted preferences $\\hat{p}_{u, i} = x_u^Ty_i$ for all items $i$.\n",
    "2. Sort the list in descending order.\n",
    "3. Returning the top $n$ items.\n",
    "\n",
    "## Shallow neural networks\n",
    "IMF effectively gives a function $f: u, i \\rightarrow \\hat{p}_{u, i}$. As before, our goal is to minimize the function above, which we can now rewrite as:\n",
    "\n",
    "$$\n",
    "\\underset{x_{*}, y_{*}}{\\arg\\min}\\sum\\limits_{u, i}c_{u, i}\\big(p_{u, i} - f(u, i)\\big)^2 + \\lambda\\bigg(\\sum\\limits_u\\|x_u\\|^2 + \\sum\\limits_i\\|y_u\\|^2\\bigg)\n",
    "$$\n",
    "\n",
    "To approximate this function, I turn to our favorite [universal function approximator](http://neuralnetworksanddeeplearning.com/chap4.html): neural networks optimized with gradient descent.\n",
    "\n",
    "This work is built around a toy web application I authored long ago: [dotify](http://dotify.herokuapp.com/). At present, dotify:\n",
    "- Pulls data nightly from [Spotify Charts](https://spotifycharts.com/regional). These data contain the number of streams for that day's top 200 songs for each of 55 countries.\n",
    "- Computes an implicit matrix factorization nightly, giving vectors for both countries and songs.\n",
    "- Allows the user to input a \"country-arithmetic\" expression, i.e. \"I want music like `Colombia x Turkey - Germany`.\" It then performs this arithmetic with the chosen vectors and recommends songs to the composite.\n",
    "\n",
    "In this work, I first fit and cross-validate an implicit matrix factorization model, establishing the three requisite parameters: $f$, the dimensionality of the latent vectors; $\\alpha$, the scalar multiple used in computing $C$; $\\lambda$ the regularization strength used in on our loss function.\n",
    "\n",
    "### Network architectures\n",
    "\n",
    "Next, I explore five different shallow neural network architectures in attempt to improve upon the observed results. These architectures are as follows:\n",
    "\n",
    "1. A trivially \"Siamese\" network which first embeds each country and song index into $\\mathbb{R}^f$ in parallel then computes a dot-product of the embeddings. This is roughly equivalent to what is being done by IMF.\n",
    "2. Same as previous, but with a bias embedding for each set, in $\\mathbb{R}$, added to the dot-product.\n",
    "3. Same as #1, but concatenate the vectors instead. Then, stack 3 fully-connected layers with ReLU activations, batch normalization after each, and dropout after the first. Finally, add a 1-unit dense layer on the end, and add bias embeddings to the result. (NB: I wanted to add the bias embeddings to the respective $\\mathbb{R}^f$ embeddings at the outset, but couldn't figure out how to do this in Keras.)\n",
    "4. Same as #2, except feed in the song title text as well. This text is first tokenized, then padded to a maximum sequence length, then embedded into a fixed-length vector by an LSTM, then reduced to a single value by a dense layer with ReLU activation. Finally, this scalar is concatenated to the scalar output that #2 would produce, and the result is fed into a final dense layer with a linear activation - i.e. a linear combination of the two.\n",
    "5. Same as #4, except feed in the song artist index as well. This index is first embedded into a vector, then reduced to a scalar by a dense layer with ReLu activation. Finally, this scalar is concatenated with the two scalars produced in the second-to-last layer of #4, then fed into a final dense layer with a linear activation. Like the previous, this is a linear combination of the three inputs.\n",
    "\n",
    "# add the links in here\n",
    "\n",
    "# Results"
   ]
  },
  {
   "cell_type": "markdown",
   "metadata": {},
   "source": [
    "# Data preparation\n",
    "\n",
    "To construct our ratings matrix, I take the sum of total streams for each $\\text{(country, song)}$ pair. The data are limited to a given number of \"top songs,\" defined as a song that appeared on Spotify Charts *on a given date*.\n",
    "\n",
    "Because the values exist on wildly different orders of magnitude, I scale the results as follows:\n",
    "\n",
    "$$\\tilde{r}_{u, i} = \\log{\\bigg(\\frac{1 + r_{u, i}}{\\epsilon}\\bigg)}$$\n",
    "\n",
    "To start, let's build a ratings matrix for a small sample of the data."
   ]
  },
  {
   "cell_type": "code",
   "execution_count": 47,
   "metadata": {
    "scrolled": false
   },
   "outputs": [
    {
     "data": {
      "text/html": [
       "<div>\n",
       "<table border=\"1\" class=\"dataframe\">\n",
       "  <thead>\n",
       "    <tr style=\"text-align: right;\">\n",
       "      <th>song_id</th>\n",
       "      <th>5552</th>\n",
       "      <th>5553</th>\n",
       "      <th>5557</th>\n",
       "      <th>5558</th>\n",
       "      <th>5560</th>\n",
       "      <th>5562</th>\n",
       "      <th>5565</th>\n",
       "      <th>5582</th>\n",
       "      <th>5583</th>\n",
       "      <th>5585</th>\n",
       "      <th>...</th>\n",
       "      <th>33062</th>\n",
       "      <th>33064</th>\n",
       "      <th>33065</th>\n",
       "      <th>33066</th>\n",
       "      <th>33067</th>\n",
       "      <th>33068</th>\n",
       "      <th>33069</th>\n",
       "      <th>33070</th>\n",
       "      <th>33071</th>\n",
       "      <th>33072</th>\n",
       "    </tr>\n",
       "    <tr>\n",
       "      <th>country_id</th>\n",
       "      <th></th>\n",
       "      <th></th>\n",
       "      <th></th>\n",
       "      <th></th>\n",
       "      <th></th>\n",
       "      <th></th>\n",
       "      <th></th>\n",
       "      <th></th>\n",
       "      <th></th>\n",
       "      <th></th>\n",
       "      <th></th>\n",
       "      <th></th>\n",
       "      <th></th>\n",
       "      <th></th>\n",
       "      <th></th>\n",
       "      <th></th>\n",
       "      <th></th>\n",
       "      <th></th>\n",
       "      <th></th>\n",
       "      <th></th>\n",
       "      <th></th>\n",
       "    </tr>\n",
       "  </thead>\n",
       "  <tbody>\n",
       "    <tr>\n",
       "      <th>1</th>\n",
       "      <td>0.000000</td>\n",
       "      <td>0.0</td>\n",
       "      <td>0.0</td>\n",
       "      <td>0.000000</td>\n",
       "      <td>0.0</td>\n",
       "      <td>0.0</td>\n",
       "      <td>0.0</td>\n",
       "      <td>0.000000</td>\n",
       "      <td>0.0</td>\n",
       "      <td>0.0</td>\n",
       "      <td>...</td>\n",
       "      <td>0.0</td>\n",
       "      <td>0.000000</td>\n",
       "      <td>0.000000</td>\n",
       "      <td>0.0</td>\n",
       "      <td>0.0</td>\n",
       "      <td>0.0</td>\n",
       "      <td>0.0</td>\n",
       "      <td>0.0</td>\n",
       "      <td>0.0</td>\n",
       "      <td>0.0</td>\n",
       "    </tr>\n",
       "    <tr>\n",
       "      <th>2</th>\n",
       "      <td>0.000000</td>\n",
       "      <td>0.0</td>\n",
       "      <td>0.0</td>\n",
       "      <td>0.000000</td>\n",
       "      <td>0.0</td>\n",
       "      <td>0.0</td>\n",
       "      <td>0.0</td>\n",
       "      <td>3.643437</td>\n",
       "      <td>0.0</td>\n",
       "      <td>0.0</td>\n",
       "      <td>...</td>\n",
       "      <td>0.0</td>\n",
       "      <td>0.000000</td>\n",
       "      <td>0.000000</td>\n",
       "      <td>0.0</td>\n",
       "      <td>0.0</td>\n",
       "      <td>0.0</td>\n",
       "      <td>0.0</td>\n",
       "      <td>0.0</td>\n",
       "      <td>0.0</td>\n",
       "      <td>0.0</td>\n",
       "    </tr>\n",
       "    <tr>\n",
       "      <th>4</th>\n",
       "      <td>2.546472</td>\n",
       "      <td>0.0</td>\n",
       "      <td>0.0</td>\n",
       "      <td>3.597833</td>\n",
       "      <td>0.0</td>\n",
       "      <td>0.0</td>\n",
       "      <td>0.0</td>\n",
       "      <td>0.000000</td>\n",
       "      <td>0.0</td>\n",
       "      <td>0.0</td>\n",
       "      <td>...</td>\n",
       "      <td>0.0</td>\n",
       "      <td>0.000000</td>\n",
       "      <td>0.000000</td>\n",
       "      <td>0.0</td>\n",
       "      <td>0.0</td>\n",
       "      <td>0.0</td>\n",
       "      <td>0.0</td>\n",
       "      <td>0.0</td>\n",
       "      <td>0.0</td>\n",
       "      <td>0.0</td>\n",
       "    </tr>\n",
       "    <tr>\n",
       "      <th>5</th>\n",
       "      <td>0.000000</td>\n",
       "      <td>0.0</td>\n",
       "      <td>0.0</td>\n",
       "      <td>3.175760</td>\n",
       "      <td>0.0</td>\n",
       "      <td>0.0</td>\n",
       "      <td>0.0</td>\n",
       "      <td>0.000000</td>\n",
       "      <td>0.0</td>\n",
       "      <td>0.0</td>\n",
       "      <td>...</td>\n",
       "      <td>0.0</td>\n",
       "      <td>0.000000</td>\n",
       "      <td>0.000000</td>\n",
       "      <td>0.0</td>\n",
       "      <td>0.0</td>\n",
       "      <td>0.0</td>\n",
       "      <td>0.0</td>\n",
       "      <td>0.0</td>\n",
       "      <td>0.0</td>\n",
       "      <td>0.0</td>\n",
       "    </tr>\n",
       "    <tr>\n",
       "      <th>6</th>\n",
       "      <td>0.000000</td>\n",
       "      <td>0.0</td>\n",
       "      <td>0.0</td>\n",
       "      <td>0.000000</td>\n",
       "      <td>0.0</td>\n",
       "      <td>0.0</td>\n",
       "      <td>0.0</td>\n",
       "      <td>0.000000</td>\n",
       "      <td>0.0</td>\n",
       "      <td>0.0</td>\n",
       "      <td>...</td>\n",
       "      <td>0.0</td>\n",
       "      <td>1.138153</td>\n",
       "      <td>0.961264</td>\n",
       "      <td>0.0</td>\n",
       "      <td>0.0</td>\n",
       "      <td>0.0</td>\n",
       "      <td>0.0</td>\n",
       "      <td>0.0</td>\n",
       "      <td>0.0</td>\n",
       "      <td>0.0</td>\n",
       "    </tr>\n",
       "  </tbody>\n",
       "</table>\n",
       "<p>5 rows × 2110 columns</p>\n",
       "</div>"
      ],
      "text/plain": [
       "song_id        5552   5553   5557      5558   5560   5562   5565      5582   \\\n",
       "country_id                                                                    \n",
       "1           0.000000    0.0    0.0  0.000000    0.0    0.0    0.0  0.000000   \n",
       "2           0.000000    0.0    0.0  0.000000    0.0    0.0    0.0  3.643437   \n",
       "4           2.546472    0.0    0.0  3.597833    0.0    0.0    0.0  0.000000   \n",
       "5           0.000000    0.0    0.0  3.175760    0.0    0.0    0.0  0.000000   \n",
       "6           0.000000    0.0    0.0  0.000000    0.0    0.0    0.0  0.000000   \n",
       "\n",
       "song_id     5583   5585   ...    33062     33064     33065  33066  33067  \\\n",
       "country_id                ...                                              \n",
       "1             0.0    0.0  ...      0.0  0.000000  0.000000    0.0    0.0   \n",
       "2             0.0    0.0  ...      0.0  0.000000  0.000000    0.0    0.0   \n",
       "4             0.0    0.0  ...      0.0  0.000000  0.000000    0.0    0.0   \n",
       "5             0.0    0.0  ...      0.0  0.000000  0.000000    0.0    0.0   \n",
       "6             0.0    0.0  ...      0.0  1.138153  0.961264    0.0    0.0   \n",
       "\n",
       "song_id     33068  33069  33070  33071  33072  \n",
       "country_id                                     \n",
       "1             0.0    0.0    0.0    0.0    0.0  \n",
       "2             0.0    0.0    0.0    0.0    0.0  \n",
       "4             0.0    0.0    0.0    0.0    0.0  \n",
       "5             0.0    0.0    0.0    0.0    0.0  \n",
       "6             0.0    0.0    0.0    0.0    0.0  \n",
       "\n",
       "[5 rows x 2110 columns]"
      ]
     },
     "execution_count": 47,
     "metadata": {},
     "output_type": "execute_result"
    }
   ],
   "source": [
    "ratings_matrix = RatingsMatrix(n_top_songs=10000, eps=1e3)\n",
    "ratings_matrix.R_ui.head()"
   ]
  },
  {
   "cell_type": "markdown",
   "metadata": {
    "collapsed": true
   },
   "source": [
    "Next, let's get an idea of the sparsity of our data and how many songs each country has streamed."
   ]
  },
  {
   "cell_type": "code",
   "execution_count": 48,
   "metadata": {},
   "outputs": [
    {
     "name": "stdout",
     "output_type": "stream",
     "text": [
      "Our ratings matrix has 7.3999999999999995% non-zero entries.\n"
     ]
    }
   ],
   "source": [
    "sparsity = (ratings_matrix.R_ui == 0).mean().mean()\n",
    "non_zero_entries_percent = 100*np.round(1 - sparsity, 4)\n",
    "\n",
    "print('Our ratings matrix has {}% non-zero entries.'.format(non_zero_entries_percent))"
   ]
  },
  {
   "cell_type": "code",
   "execution_count": 49,
   "metadata": {},
   "outputs": [
    {
     "name": "stdout",
     "output_type": "stream",
     "text": [
      "Our ratings matrix contains 55 countries and 2110 unique songs.\n"
     ]
    }
   ],
   "source": [
    "print('Our ratings matrix contains {} countries and {} unique songs.'.format(*ratings_matrix.R_ui.shape))"
   ]
  },
  {
   "cell_type": "code",
   "execution_count": 40,
   "metadata": {},
   "outputs": [
    {
     "data": {
      "image/png": "[encoded data removed]",
      "text/plain": [
       "<matplotlib.figure.Figure at 0x11ba3aef0>"
      ]
     },
     "metadata": {},
     "output_type": "display_data"
    }
   ],
   "source": [
    "plt.figure(figsize=(10, 6))\n",
    "\n",
    "songs_rated_by_country = (ratings_matrix.R_ui > 0).sum(axis=1)\n",
    "plt.hist(songs_rated_by_country)\n",
    "plt.title('Distribution of # of Unique Songs Streamed per Country', fontsize=15)\n",
    "plt.xlabel('Unique Songs Streamed', fontsize=12)\n",
    "_ = plt.ylabel('# of Countries', fontsize=12)"
   ]
  },
  {
   "cell_type": "markdown",
   "metadata": {},
   "source": [
    "## Construct training, validation sets\n",
    "\n",
    "In reviewing literature on recommender engine evaluation, it seems common to create training and validation sets as follows:\n",
    "1. Filter your ratings matrix for users (countries) that meet some criterion, i.e. they've streamed above a certain threshold of songs.\n",
    "2. Select a random $x\\%$ of their items (songs).\n",
    "3. \"Move\" these items into a validation matrix; set them to 0 in the training matrix.\n",
    "\n",
    "To construct this split, I first compute a sensible threshold for Step #1, then \"move\" a random 20% of songs from the training matrix to the validation matrix."
   ]
  },
  {
   "cell_type": "code",
   "execution_count": 41,
   "metadata": {},
   "outputs": [
    {
     "name": "stdout",
     "output_type": "stream",
     "text": [
      "The 15th percentile of songs rated by country is 54.5.\n"
     ]
    }
   ],
   "source": [
    "print('The 15th percentile of songs rated by country is {}.'.format(\n",
    "    np.percentile(songs_rated_by_country, 15)\n",
    "))"
   ]
  },
  {
   "cell_type": "markdown",
   "metadata": {},
   "source": [
    "Let's choose 50 as our cutoff, and move 20% of the songs in qualifying rows to a validation set.\n",
    "\n",
    "NB: The actual ratings matrix is located at `RatingsMatrix.R_ui`. This reflects the API choice I made when first starting this project."
   ]
  },
  {
   "cell_type": "code",
   "execution_count": 42,
   "metadata": {},
   "outputs": [],
   "source": [
    "more_than_50_ratings_mask = songs_rated_by_country > 50"
   ]
  },
  {
   "cell_type": "code",
   "execution_count": 43,
   "metadata": {},
   "outputs": [],
   "source": [
    "FRACTION_TO_DROP = .2\n",
    "TRAINING_MATRIX = ratings_matrix\n",
    "VALIDATION_MATRIX = deepcopy(TRAINING_MATRIX)\n",
    "VALIDATION_MATRIX.R_ui = pd.DataFrame(0., index=TRAINING_MATRIX.R_ui.index, columns=TRAINING_MATRIX.R_ui.columns)\n",
    "\n",
    "for country_id, ratings in TRAINING_MATRIX.R_ui[more_than_50_ratings_mask].iterrows():\n",
    "    \n",
    "    rated_songs_mask = TRAINING_MATRIX.R_ui.ix[country_id] > 0\n",
    "    rated_songs = TRAINING_MATRIX.R_ui.ix[country_id][rated_songs_mask].index.tolist()\n",
    "    n_songs_to_drop = int( len(rated_songs)*FRACTION_TO_DROP )\n",
    "    songs_to_drop = set( random.sample(rated_songs, n_songs_to_drop) )\n",
    "    \n",
    "    VALIDATION_MATRIX.R_ui.ix[country_id][songs_to_drop] = TRAINING_MATRIX.R_ui.ix[country_id][songs_to_drop]\n",
    "    TRAINING_MATRIX.R_ui.ix[country_id][songs_to_drop] = 0."
   ]
  },
  {
   "cell_type": "markdown",
   "metadata": {},
   "source": [
    "# Evaluation\n",
    "\n",
    "Evaluating recommender systems is an inexact science because there is no \"right\" answer. In production, this evaluation is often done via the A/B test of a proxy metric important to the business - revenue, for example. In training, the process is less clear. To this end, the authors of the IMF paper offer the following:\n",
    "\n",
    "> Evaluation of implicit-feedback recommender requires appropriate measures. In the traditional setting where a user is specifying a numeric score, there are clear metrics such as mean squared error to measure success in prediction. However with implicit models we have to take into account availability of the item, competition for the item with other items, and repeat feedback. For example, if we gather data on television viewing, it is unclear how to evaluate a show that has been watched more than once, or how to compare two shows that are on at the same time, and hence cannot both be watched by the user.\n",
    "\n",
    "Additionally, they state:\n",
    "\n",
    "> It is important to realize that we do not have a reliable feedback regarding which programs are unloved, as not watching a program can stem from multiple different reasons. In addition, we are currently unable to track user reactions to our recommendations. Thus, precision based metrics are not very appropriate, as they require knowing which programs are undesired to a user. However, watching a program is an indication of liking it, making recall-oriented measures applicable.\n",
    "\n",
    "In solution, they propose evaluating the \"expected percentile ranking\" defined as follows:\n",
    "\n",
    "$$\n",
    "\\overline{\\text{rank}} = \\frac{\\sum_{u, i}\\tilde{r}_{u, i}^t\\text{rank}_{u, i}}{\\sum_{u, i}\\tilde{r}_{u, i}^t}\n",
    "$$\n",
    "\n",
    "Here, $\\text{rank}_{u, i}$ gives the percentile-ranking of the predicted preference, i.e. if $\\hat{p}_{u = 17, i = 34}$ is the largest of all predicted preferences, then $\\text{rank}_{u = 17, i = 34} = 0\\%$. Similarly, the smallest of the predicted preferences, i.e. the last on the list, equals $100\\%$.\n",
    "\n",
    "The following class accepts a training matrix, validation matrix and a matrix of predicted preferences. It then exposes the mean expected percentile ranking for both training and validation sets as properties on the instance."
   ]
  },
  {
   "cell_type": "code",
   "execution_count": 44,
   "metadata": {
    "collapsed": true
   },
   "outputs": [],
   "source": [
    "class ExpectedPercentileRankingsEvaluator:\n",
    "    \n",
    "    def __init__(self, training_matrix, validation_matrix, predicted_preferences):\n",
    "        self.training_matrix = training_matrix\n",
    "        self.validation_matrix = validation_matrix\n",
    "        self.predicted_preferences = predicted_preferences\n",
    "        self._expected_percentile_rankings_train = []\n",
    "        self._expected_percentile_rankings_validation = []\n",
    "        \n",
    "    def run(self):\n",
    "        self._evaluate_train()\n",
    "        self._evaluate_validation()\n",
    "\n",
    "    def _evaluate_train(self):\n",
    "        self._expected_percentile_rankings_train = self._evaluate(matrix=self.training_matrix)\n",
    "        \n",
    "    def _evaluate_validation(self):\n",
    "        self._expected_percentile_rankings_validation = self._evaluate(matrix=self.validation_matrix)\n",
    "        \n",
    "    def _evaluate(self, matrix):\n",
    "        expected_percentile_rankings = []\n",
    "        for country_id, preferences in self.predicted_preferences[more_than_50_ratings_mask].iterrows():\n",
    "            predictions = pd.DataFrame({\n",
    "                'predicted_preference': preferences.sort_values(ascending=False),\n",
    "                'rank': np.arange( len(preferences) ),\n",
    "                'percentile_rank': np.arange( len(preferences) ) / len(preferences)\n",
    "            })\n",
    "            ground_truth = matrix.R_ui.ix[country_id][ matrix.R_ui.ix[country_id] > 0 ]\n",
    "            numerator = (ground_truth * predictions['percentile_rank'][ground_truth.index]).sum()\n",
    "            denominator = ground_truth.sum()\n",
    "            expected_percentile_rankings.append( numerator / denominator )\n",
    "\n",
    "        return expected_percentile_rankings\n",
    "\n",
    "    @property\n",
    "    def mean_expected_percentile_rankings_train(self):\n",
    "        return np.mean(self._expected_percentile_rankings_train)\n",
    "    \n",
    "    @property\n",
    "    def mean_expected_percentile_rankings_validation(self):\n",
    "        return np.mean(self._expected_percentile_rankings_validation)"
   ]
  },
  {
   "cell_type": "markdown",
   "metadata": {},
   "source": [
    "## Grid search\n",
    "\n",
    "Next, we perform a basic grid search to find reasonable values for $\\alpha$ and $\\lambda$."
   ]
  },
  {
   "cell_type": "code",
   "execution_count": 16,
   "metadata": {
    "collapsed": true
   },
   "outputs": [],
   "source": [
    "F = 30\n",
    "grid_search_results = {}\n",
    "result = namedtuple('Result', 'alpha lmbda')\n",
    "alpha_values = [1e-1, 1e0, 1e1, 1e2]\n",
    "lmbda_values = [1e-1, 1e0, 1e1, 1e2]\n",
    "\n",
    "for alpha in alpha_values:\n",
    "    for lmbda in lmbda_values:\n",
    "        implicit_mf = ImplicitMF(ratings_matrix=TRAINING_MATRIX, f=F, alpha=alpha, lmbda=lmbda)\n",
    "        implicit_mf.run()\n",
    "        predicted_preferences = implicit_mf.country_vectors.vectors.dot( implicit_mf.song_vectors.vectors.T )\n",
    "        \n",
    "        evaluator = ExpectedPercentileRankingsEvaluator(\n",
    "            training_matrix=TRAINING_MATRIX,\n",
    "            validation_matrix=VALIDATION_MATRIX,\n",
    "            predicted_preferences=predicted_preferences\n",
    "        )\n",
    "        evaluator.run()\n",
    "        grid_search_results[result(alpha=alpha, lmbda=lmbda)] = {\n",
    "            'train': evaluator.mean_expected_percentile_rankings_train,\n",
    "            'validation': evaluator.mean_expected_percentile_rankings_validation\n",
    "        }"
   ]
  },
  {
   "cell_type": "markdown",
   "metadata": {},
   "source": [
    "Let's visualize the results for clarity. I plot the opposite of the validation score such that the parameters corresponding to the *darkest* square are found to be most favorable."
   ]
  },
  {
   "cell_type": "code",
   "execution_count": 26,
   "metadata": {
    "scrolled": false
   },
   "outputs": [
    {
     "data": {
      "image/png": "[encoded data removed]",
      "text/plain": [
       "<matplotlib.figure.Figure at 0x11b47d128>"
      ]
     },
     "metadata": {},
     "output_type": "display_data"
    }
   ],
   "source": [
    "grid_search_items = [(params, results) for params, results in grid_search_results.items()]\n",
    "grid_search_items.sort(key=lambda tup: tup[0].alpha)\n",
    "\n",
    "params, results = zip(*grid_search_items)\n",
    "validation_results = np.array([result['validation'] for result in results]).reshape(4, 4)\n",
    "\n",
    "plt.figure(figsize=(15, 10))\n",
    "plt.xticks([])\n",
    "plt.yticks([])\n",
    "plt.pcolormesh(-validation_results, cmap='Reds')\n",
    "plt.colorbar()\n",
    "for alpha_index, alpha in enumerate(alpha_values):\n",
    "    for lbmda_index, lmbda in enumerate(lmbda_values):\n",
    "        plt.text(\n",
    "            x = lbmda_index + 0.5,\n",
    "            y = alpha_index + 0.5,\n",
    "            s = r'$\\alpha$ = {}'.format(alpha) + '\\n' + r'$\\lambda$ = {}'.format(lmbda), \n",
    "            ha='center', \n",
    "            va='center', \n",
    "            size=15, \n",
    "            color='w'\n",
    "        )\n",
    "plt.title('Grid Search Results', fontsize=15)\n",
    "plt.xlabel(r'$\\lambda$ Values', fontsize=14)\n",
    "_ = plt.ylabel(r'$\\alpha$ Values', fontsize=14)"
   ]
  },
  {
   "cell_type": "code",
   "execution_count": 45,
   "metadata": {},
   "outputs": [
    {
     "name": "stdout",
     "output_type": "stream",
     "text": [
      "The best parameters were found to be: Result(alpha=0.1, lmbda=10.0).\n"
     ]
    }
   ],
   "source": [
    "best_params = min(grid_search_results, key=lambda key: grid_search_results.get(key)['validation'])\n",
    "print('The best parameters were found to be: {}.'.format(best_params))"
   ]
  },
  {
   "cell_type": "markdown",
   "metadata": {
    "collapsed": true
   },
   "source": [
    "# Train a final model\n",
    "\n",
    "Using the best parameters, let's train a final implicit matrix factorization model using 1,000,000 top songs. Additionally, we'll choose $\\epsilon = 1,000$ which seemed to work best in simple experimentation. This work is not shown here."
   ]
  },
  {
   "cell_type": "code",
   "execution_count": 50,
   "metadata": {},
   "outputs": [],
   "source": [
    "ratings_matrix = RatingsMatrix(n_top_songs=1000000, eps=1e3)"
   ]
  },
  {
   "cell_type": "code",
   "execution_count": 51,
   "metadata": {},
   "outputs": [
    {
     "name": "stdout",
     "output_type": "stream",
     "text": [
      "Our ratings matrix contains 55 countries and 8663 unique songs.\n"
     ]
    }
   ],
   "source": [
    "print('Our ratings matrix contains {} countries and {} unique songs.'.format(*ratings_matrix.R_ui.shape))"
   ]
  },
  {
   "cell_type": "code",
   "execution_count": null,
   "metadata": {
    "collapsed": true
   },
   "outputs": [],
   "source": [
    "implicit_mf = ImplicitMF(ratings_matrix=ratings_matrix, f=F, alpha=best_params.alpha, lmbda=best_params.lmbda)\n",
    "implicit_mf.run()"
   ]
  },
  {
   "cell_type": "markdown",
   "metadata": {},
   "source": [
    "# save stuff we care about from the final implicit mf run"
   ]
  },
  {
   "cell_type": "code",
   "execution_count": 60,
   "metadata": {},
   "outputs": [],
   "source": [
    "# implicit_mf.country_vectors.vectors.to_csv('data/country_vectors.csv')\n",
    "# implicit_mf.song_vectors.vectors.to_csv('data/song_vectors.csv')\n",
    "implicit_mf.country_vectors.vectors = pd.read_csv('data/country_vectors.csv', index_col=['country_id'])\n",
    "implicit_mf.song_vectors.vectors = pd.read_csv('data/song_vectors.csv', index_col=['song_id'])"
   ]
  },
  {
   "cell_type": "markdown",
   "metadata": {
    "collapsed": true
   },
   "source": [
    "# Visualize\n",
    "\n",
    "Let's plot the cosine similarities between all pairs of countries to confirm that things make sense. Intuitively, I'd think that countries in the following groups should be similar:\n",
    "- United States, United Kingdom, Canada, Australia, New Zealand\n",
    "- Latin American countries\n",
    "- Sweden, Finland, Norway, Denmark"
   ]
  },
  {
   "cell_type": "markdown",
   "metadata": {},
   "source": [
    "First let's replace the index of our vectors such that it contains the country names."
   ]
  },
  {
   "cell_type": "code",
   "execution_count": 62,
   "metadata": {},
   "outputs": [
    {
     "data": {
      "text/html": [
       "<div>\n",
       "<table border=\"1\" class=\"dataframe\">\n",
       "  <thead>\n",
       "    <tr style=\"text-align: right;\">\n",
       "      <th></th>\n",
       "      <th>dim_0</th>\n",
       "      <th>dim_1</th>\n",
       "      <th>dim_2</th>\n",
       "      <th>dim_3</th>\n",
       "      <th>dim_4</th>\n",
       "      <th>dim_5</th>\n",
       "      <th>dim_6</th>\n",
       "      <th>dim_7</th>\n",
       "      <th>dim_8</th>\n",
       "      <th>dim_9</th>\n",
       "      <th>...</th>\n",
       "      <th>dim_20</th>\n",
       "      <th>dim_21</th>\n",
       "      <th>dim_22</th>\n",
       "      <th>dim_23</th>\n",
       "      <th>dim_24</th>\n",
       "      <th>dim_25</th>\n",
       "      <th>dim_26</th>\n",
       "      <th>dim_27</th>\n",
       "      <th>dim_28</th>\n",
       "      <th>dim_29</th>\n",
       "    </tr>\n",
       "    <tr>\n",
       "      <th>country_name</th>\n",
       "      <th></th>\n",
       "      <th></th>\n",
       "      <th></th>\n",
       "      <th></th>\n",
       "      <th></th>\n",
       "      <th></th>\n",
       "      <th></th>\n",
       "      <th></th>\n",
       "      <th></th>\n",
       "      <th></th>\n",
       "      <th></th>\n",
       "      <th></th>\n",
       "      <th></th>\n",
       "      <th></th>\n",
       "      <th></th>\n",
       "      <th></th>\n",
       "      <th></th>\n",
       "      <th></th>\n",
       "      <th></th>\n",
       "      <th></th>\n",
       "      <th></th>\n",
       "    </tr>\n",
       "  </thead>\n",
       "  <tbody>\n",
       "    <tr>\n",
       "      <th>United States</th>\n",
       "      <td>-1.276051</td>\n",
       "      <td>-1.058583</td>\n",
       "      <td>-0.622779</td>\n",
       "      <td>0.430231</td>\n",
       "      <td>0.306830</td>\n",
       "      <td>0.966786</td>\n",
       "      <td>0.190530</td>\n",
       "      <td>-0.549356</td>\n",
       "      <td>0.538788</td>\n",
       "      <td>-0.722162</td>\n",
       "      <td>...</td>\n",
       "      <td>0.057478</td>\n",
       "      <td>0.500288</td>\n",
       "      <td>0.799253</td>\n",
       "      <td>0.383243</td>\n",
       "      <td>0.575051</td>\n",
       "      <td>0.247066</td>\n",
       "      <td>0.548018</td>\n",
       "      <td>-0.238643</td>\n",
       "      <td>0.114481</td>\n",
       "      <td>0.731294</td>\n",
       "    </tr>\n",
       "    <tr>\n",
       "      <th>United Kingdom</th>\n",
       "      <td>0.106521</td>\n",
       "      <td>0.346207</td>\n",
       "      <td>-0.276669</td>\n",
       "      <td>-0.003249</td>\n",
       "      <td>-1.294024</td>\n",
       "      <td>-0.090318</td>\n",
       "      <td>0.666301</td>\n",
       "      <td>-0.533962</td>\n",
       "      <td>0.281620</td>\n",
       "      <td>-0.268332</td>\n",
       "      <td>...</td>\n",
       "      <td>-0.803658</td>\n",
       "      <td>-0.498773</td>\n",
       "      <td>-0.041302</td>\n",
       "      <td>-0.705815</td>\n",
       "      <td>0.624482</td>\n",
       "      <td>-0.007293</td>\n",
       "      <td>1.335080</td>\n",
       "      <td>-0.717667</td>\n",
       "      <td>0.019507</td>\n",
       "      <td>-1.700016</td>\n",
       "    </tr>\n",
       "    <tr>\n",
       "      <th>Argentina</th>\n",
       "      <td>-0.871966</td>\n",
       "      <td>0.678408</td>\n",
       "      <td>0.343354</td>\n",
       "      <td>-0.968614</td>\n",
       "      <td>-1.099471</td>\n",
       "      <td>0.014175</td>\n",
       "      <td>0.031833</td>\n",
       "      <td>-0.370821</td>\n",
       "      <td>-0.114270</td>\n",
       "      <td>-0.982766</td>\n",
       "      <td>...</td>\n",
       "      <td>0.435942</td>\n",
       "      <td>-0.170878</td>\n",
       "      <td>-0.172491</td>\n",
       "      <td>-0.158596</td>\n",
       "      <td>0.445267</td>\n",
       "      <td>-0.949628</td>\n",
       "      <td>0.542433</td>\n",
       "      <td>-0.157643</td>\n",
       "      <td>0.765119</td>\n",
       "      <td>0.587947</td>\n",
       "    </tr>\n",
       "    <tr>\n",
       "      <th>Australia</th>\n",
       "      <td>-1.129085</td>\n",
       "      <td>0.212391</td>\n",
       "      <td>0.136416</td>\n",
       "      <td>-0.665215</td>\n",
       "      <td>0.452084</td>\n",
       "      <td>-0.418566</td>\n",
       "      <td>-0.187979</td>\n",
       "      <td>0.807976</td>\n",
       "      <td>-0.693282</td>\n",
       "      <td>-0.723989</td>\n",
       "      <td>...</td>\n",
       "      <td>-0.961785</td>\n",
       "      <td>-0.064047</td>\n",
       "      <td>-0.161033</td>\n",
       "      <td>0.211444</td>\n",
       "      <td>0.180285</td>\n",
       "      <td>0.597487</td>\n",
       "      <td>-0.143220</td>\n",
       "      <td>0.336241</td>\n",
       "      <td>-0.251201</td>\n",
       "      <td>-1.057264</td>\n",
       "    </tr>\n",
       "    <tr>\n",
       "      <th>Austria</th>\n",
       "      <td>-0.094485</td>\n",
       "      <td>0.870111</td>\n",
       "      <td>-0.328650</td>\n",
       "      <td>-0.594735</td>\n",
       "      <td>-0.429165</td>\n",
       "      <td>-0.955718</td>\n",
       "      <td>0.151173</td>\n",
       "      <td>0.250305</td>\n",
       "      <td>-0.302996</td>\n",
       "      <td>0.718965</td>\n",
       "      <td>...</td>\n",
       "      <td>-0.409435</td>\n",
       "      <td>-0.381884</td>\n",
       "      <td>-0.144373</td>\n",
       "      <td>0.340587</td>\n",
       "      <td>0.006711</td>\n",
       "      <td>0.870717</td>\n",
       "      <td>0.067101</td>\n",
       "      <td>-0.361675</td>\n",
       "      <td>0.742727</td>\n",
       "      <td>1.341254</td>\n",
       "    </tr>\n",
       "  </tbody>\n",
       "</table>\n",
       "<p>5 rows × 30 columns</p>\n",
       "</div>"
      ],
      "text/plain": [
       "                   dim_0     dim_1     dim_2     dim_3     dim_4     dim_5  \\\n",
       "country_name                                                                 \n",
       "United States  -1.276051 -1.058583 -0.622779  0.430231  0.306830  0.966786   \n",
       "United Kingdom  0.106521  0.346207 -0.276669 -0.003249 -1.294024 -0.090318   \n",
       "Argentina      -0.871966  0.678408  0.343354 -0.968614 -1.099471  0.014175   \n",
       "Australia      -1.129085  0.212391  0.136416 -0.665215  0.452084 -0.418566   \n",
       "Austria        -0.094485  0.870111 -0.328650 -0.594735 -0.429165 -0.955718   \n",
       "\n",
       "                   dim_6     dim_7     dim_8     dim_9    ...       dim_20  \\\n",
       "country_name                                              ...                \n",
       "United States   0.190530 -0.549356  0.538788 -0.722162    ...     0.057478   \n",
       "United Kingdom  0.666301 -0.533962  0.281620 -0.268332    ...    -0.803658   \n",
       "Argentina       0.031833 -0.370821 -0.114270 -0.982766    ...     0.435942   \n",
       "Australia      -0.187979  0.807976 -0.693282 -0.723989    ...    -0.961785   \n",
       "Austria         0.151173  0.250305 -0.302996  0.718965    ...    -0.409435   \n",
       "\n",
       "                  dim_21    dim_22    dim_23    dim_24    dim_25    dim_26  \\\n",
       "country_name                                                                 \n",
       "United States   0.500288  0.799253  0.383243  0.575051  0.247066  0.548018   \n",
       "United Kingdom -0.498773 -0.041302 -0.705815  0.624482 -0.007293  1.335080   \n",
       "Argentina      -0.170878 -0.172491 -0.158596  0.445267 -0.949628  0.542433   \n",
       "Australia      -0.064047 -0.161033  0.211444  0.180285  0.597487 -0.143220   \n",
       "Austria        -0.381884 -0.144373  0.340587  0.006711  0.870717  0.067101   \n",
       "\n",
       "                  dim_27    dim_28    dim_29  \n",
       "country_name                                  \n",
       "United States  -0.238643  0.114481  0.731294  \n",
       "United Kingdom -0.717667  0.019507 -1.700016  \n",
       "Argentina      -0.157643  0.765119  0.587947  \n",
       "Australia       0.336241 -0.251201 -1.057264  \n",
       "Austria        -0.361675  0.742727  1.341254  \n",
       "\n",
       "[5 rows x 30 columns]"
      ]
     },
     "execution_count": 62,
     "metadata": {},
     "output_type": "execute_result"
    }
   ],
   "source": [
    "country_vectors_df = implicit_mf.country_vectors.vectors.copy()\n",
    "\n",
    "country_id_to_name = {countries_lookup[name]['id']: name for name in countries_lookup}\n",
    "country_ids = country_vectors_df.index\n",
    "country_names = pd.Index([country_id_to_name[c_id] for c_id in country_ids], name='country_name')\n",
    "country_vectors_df.index = country_names\n",
    "\n",
    "country_vectors_df.head()"
   ]
  },
  {
   "cell_type": "markdown",
   "metadata": {},
   "source": [
    "Then, we'll plot the cosine similarities."
   ]
  },
  {
   "cell_type": "code",
   "execution_count": 75,
   "metadata": {
    "collapsed": true
   },
   "outputs": [],
   "source": [
    "sns.set(style=\"white\")\n",
    "\n",
    "def plot_cosine_similarities(country_vectors_df):\n",
    "\n",
    "    similarities_df = pd.DataFrame(\n",
    "        data=cosine_similarity(country_vectors_df),\n",
    "        index=country_vectors_df.index,\n",
    "        columns=country_vectors_df.index\n",
    "    )\n",
    "    \n",
    "    lower_triangle_mask = np.zeros_like(similarities_df, dtype=np.bool)\n",
    "    lower_triangle_mask[np.triu_indices_from(lower_triangle_mask)] = True\n",
    "\n",
    "    f, ax = plt.subplots(figsize=(21, 21))\n",
    "    cmap = sns.diverging_palette(220, 10, as_cmap=True)\n",
    "\n",
    "    sns.heatmap(\n",
    "        similarities_df, \n",
    "        mask=lower_triangle_mask, \n",
    "        cmap=cmap, \n",
    "        vmax=.5,\n",
    "        square=True, \n",
    "        xticklabels=True, \n",
    "        yticklabels=True,\n",
    "        linewidths=1, \n",
    "        cbar_kws={\"shrink\": .5}, \n",
    "        ax=ax,\n",
    "    )\n",
    "    ax.set_title('Cosine Similarity Matrix', fontsize=20)"
   ]
  },
  {
   "cell_type": "code",
   "execution_count": 76,
   "metadata": {
    "scrolled": false
   },
   "outputs": [
    {
     "data": {
      "image/png": "[encoded data removed]",
      "text/plain": [
       "<matplotlib.figure.Figure at 0x11baa0320>"
      ]
     },
     "metadata": {},
     "output_type": "display_data"
    }
   ],
   "source": [
    "plot_cosine_similarities(country_vectors_df)"
   ]
  },
  {
   "cell_type": "markdown",
   "metadata": {},
   "source": [
    "I first turn to my favorite country - Colombia - to inspect its similarity with other Latin American countries. The numbers are high for: Peru, Paraguay, Panama, Gautemala, Ecuador, Dominican Republic and Costa Rica.\n",
    "\n",
    "Next, I turn to the United Kingdom: it is most similar with Switzerland, New Zealand, Ireland, Hungary, Belgium and Australia.\n",
    "\n",
    "Finally, we see that Sweden is similar enough to Norway, yet not Finland (who, incidentally, seems to have nothing in common with anyone at all).\n",
    "\n",
    "Overall, this looks very good to me."
   ]
  },
  {
   "cell_type": "markdown",
   "metadata": {},
   "source": [
    "# Visualize with TSNE\n",
    "\n",
    "To further inspect similarities between countries, let's explore the 2-dimensional TSNE space."
   ]
  },
  {
   "cell_type": "code",
   "execution_count": 84,
   "metadata": {
    "collapsed": true
   },
   "outputs": [],
   "source": [
    "tsne = TSNE(perplexity=30, n_components=2, init='pca', n_iter=5000)\n",
    "\n",
    "country_embeddings = pd.DataFrame(\n",
    "    data=tsne.fit_transform(country_vectors_df),\n",
    "    index=country_vectors_df.index,\n",
    "    columns=['dim_1', 'dim_2']\n",
    ")"
   ]
  },
  {
   "cell_type": "code",
   "execution_count": 88,
   "metadata": {
    "collapsed": true
   },
   "outputs": [],
   "source": [
    "def plot_tsne_embeddings(country_embeddings):\n",
    "\n",
    "    plt.figure(figsize=(15,15))\n",
    "\n",
    "    for country_name, country_embedding in country_embeddings.iterrows():\n",
    "        dim_1, dim_2 = country_embedding\n",
    "        plt.scatter(dim_1, dim_2)\n",
    "        plt.annotate(country_name, xy=(dim_1, dim_2), xytext=(5, 2), textcoords='offset points', ha='right', va='bottom')\n",
    "        plt.title('Two-Dimensional TSNE Embeddings of Latent Country Vectors', fontsize=16)\n",
    "        plt.xlabel('Dimension 1', fontsize=12)\n",
    "        plt.ylabel('Dimension 2', fontsize=12)\n",
    "    plt.show()"
   ]
  },
  {
   "cell_type": "code",
   "execution_count": 89,
   "metadata": {},
   "outputs": [
    {
     "data": {
      "image/png": "[encoded data removed]",
      "text/plain": [
       "<matplotlib.figure.Figure at 0x11df7fc50>"
      ]
     },
     "metadata": {},
     "output_type": "display_data"
    }
   ],
   "source": [
    "plot_tsne_embeddings(country_embeddings)"
   ]
  },
  {
   "cell_type": "markdown",
   "metadata": {},
   "source": [
    "My first thought is that this is not immensely helpful. While we do see some of the same structure as before - Colombia close to the Dominican Republic, Panama, Bolivia, Guatemala, El Salvador; the United States close enough to the United Kingdom and Canada; Sweden nowhere near Norway, but next to Denmark - the similarities are not quite as expressive as in the cosine similarity matrix. This is OK, though; this step is worthwhile nonetheless."
   ]
  },
  {
   "cell_type": "markdown",
   "metadata": {},
   "source": [
    "## Inspect arithmetic combinations"
   ]
  },
  {
   "cell_type": "code",
   "execution_count": null,
   "metadata": {},
   "outputs": [],
   "source": [
    "SONG_METADATA_QUERY = \"\"\"\n",
    "    SELECT \n",
    "        songs.title as song_title, \n",
    "        songs.artist as song_artist,\n",
    "        songs.id as song_id\n",
    "    FROM songs\n",
    "\"\"\"\n",
    "\n",
    "song_metadata_df = pd.read_sql(SONG_METADATA_QUERY, ENGINE, index_col=['song_id'])"
   ]
  },
  {
   "cell_type": "code",
   "execution_count": null,
   "metadata": {},
   "outputs": [],
   "source": [
    "song_vectors_df = song_metadata_df.join(implicit_mf.song_vectors.vectors, how='inner')\\\n",
    "    .set_index(['song_title', 'song_artist'])"
   ]
  },
  {
   "cell_type": "code",
   "execution_count": null,
   "metadata": {
    "collapsed": true
   },
   "outputs": [],
   "source": [
    "song_vectors_df = song_vectors_df.apply(lambda vec: vec / np.linalg.norm(vec), axis = 1)\n",
    "# normalize all country vectors here"
   ]
  },
  {
   "cell_type": "code",
   "execution_count": null,
   "metadata": {},
   "outputs": [],
   "source": [
    "country_vec = country_vectors_df.ix['United States'] / np.linalg.norm(country_vectors_df.ix['United States'])"
   ]
  },
  {
   "cell_type": "code",
   "execution_count": null,
   "metadata": {},
   "outputs": [],
   "source": [
    "pd.set_option('display.max_colwidth', 100)"
   ]
  },
  {
   "cell_type": "code",
   "execution_count": null,
   "metadata": {},
   "outputs": [],
   "source": [
    "song_vectors_df.dot(country_vec).sort_values(ascending=False).reset_index().head(10)"
   ]
  },
  {
   "cell_type": "code",
   "execution_count": null,
   "metadata": {
    "collapsed": true
   },
   "outputs": [],
   "source": [
    "country_vec = country_vectors_df.ix['Colombia'] / np.linalg.norm(country_vectors_df.ix['Colombia'])\n",
    "# country_vec = country_vectors_df.ix['Colombia']"
   ]
  },
  {
   "cell_type": "code",
   "execution_count": null,
   "metadata": {
    "scrolled": false
   },
   "outputs": [],
   "source": [
    "song_vectors_df.dot(country_vec).sort_values(ascending=False).reset_index().head(10)"
   ]
  },
  {
   "cell_type": "code",
   "execution_count": null,
   "metadata": {
    "collapsed": true
   },
   "outputs": [],
   "source": [
    "country_vec = country_vectors_df.ix['Germany'] / np.linalg.norm(country_vectors_df.ix['Germany'])\n",
    "# country_vec = country_vectors_df.ix['Panama']"
   ]
  },
  {
   "cell_type": "code",
   "execution_count": null,
   "metadata": {},
   "outputs": [],
   "source": [
    "song_vectors_df.dot(country_vec).sort_values(ascending=False).reset_index().head(10)"
   ]
  },
  {
   "cell_type": "markdown",
   "metadata": {},
   "source": [
    "# hit it with the neural network"
   ]
  },
  {
   "cell_type": "code",
   "execution_count": null,
   "metadata": {
    "scrolled": false
   },
   "outputs": [],
   "source": [
    "from itertools import product\n",
    "\n",
    "from keras import backend as K\n",
    "from keras.layers import Input, Embedding, Flatten, Lambda, Dense, BatchNormalization, Dropout, LSTM\n",
    "from keras.layers.merge import add, dot, concatenate\n",
    "from keras.models import Model\n",
    "from keras.optimizers import Adam\n",
    "from keras.preprocessing.sequence import pad_sequences\n",
    "from keras.preprocessing.text import Tokenizer\n",
    "from keras.regularizers import l2"
   ]
  },
  {
   "cell_type": "code",
   "execution_count": null,
   "metadata": {
    "collapsed": true
   },
   "outputs": [],
   "source": [
    "alpha = 1\n",
    "lmbda = 25\n",
    "F = 30\n",
    "LEARNING_RATE = .001"
   ]
  },
  {
   "cell_type": "code",
   "execution_count": null,
   "metadata": {
    "collapsed": true
   },
   "outputs": [],
   "source": [
    "P_ui = TRAINING_MATRIX.R_ui > 0\n",
    "C_ui = 1 + alpha*TRAINING_MATRIX.R_ui"
   ]
  },
  {
   "cell_type": "code",
   "execution_count": null,
   "metadata": {
    "collapsed": true
   },
   "outputs": [],
   "source": [
    "def implicit_cf_loss(y_true, y_pred, alpha=alpha):\n",
    "    P = y_true > 0\n",
    "    C = 1 + alpha*y_true\n",
    "    return K.mean( C*(P - y_pred)**2 )"
   ]
  },
  {
   "cell_type": "markdown",
   "metadata": {},
   "source": [
    "## neatly arrange all the data"
   ]
  },
  {
   "cell_type": "code",
   "execution_count": null,
   "metadata": {
    "collapsed": true
   },
   "outputs": [],
   "source": [
    "song_metadata_df = song_metadata_df.ix[ratings_matrix.R_ui.columns]"
   ]
  },
  {
   "cell_type": "code",
   "execution_count": null,
   "metadata": {},
   "outputs": [],
   "source": [
    "song_metadata_df.head()"
   ]
  },
  {
   "cell_type": "code",
   "execution_count": null,
   "metadata": {},
   "outputs": [],
   "source": [
    "country_id_to_index = {c_id: index for index, c_id in enumerate(ratings_matrix.R_ui.index)}\n",
    "song_id_to_index = {s_id: index for index, s_id in enumerate(ratings_matrix.R_ui.columns)}\n",
    "song_artist_to_index = {artist: index for index, artist in enumerate(song_metadata_df['song_artist'].unique())}"
   ]
  },
  {
   "cell_type": "code",
   "execution_count": null,
   "metadata": {
    "collapsed": true
   },
   "outputs": [],
   "source": [
    "song_metadata_df['song_index'] = song_metadata_df.index.map(song_id_to_index.get)\n",
    "song_metadata_df['song_artist_index'] = song_metadata_df['song_artist'].map(song_artist_to_index.get).astype(int)"
   ]
  },
  {
   "cell_type": "code",
   "execution_count": null,
   "metadata": {},
   "outputs": [],
   "source": [
    "song_metadata_df.head()"
   ]
  },
  {
   "cell_type": "code",
   "execution_count": null,
   "metadata": {
    "collapsed": true
   },
   "outputs": [],
   "source": [
    "NUM_WORDS = 5000"
   ]
  },
  {
   "cell_type": "code",
   "execution_count": null,
   "metadata": {},
   "outputs": [],
   "source": [
    "tokenizer = Tokenizer(num_words=NUM_WORDS, lower=True, split=\" \")\n",
    "tokenizer.fit_on_texts(song_metadata_df['song_title'])\n",
    "song_metadata_df['title_sequence'] = tokenizer.texts_to_sequences(song_metadata_df['song_title'])"
   ]
  },
  {
   "cell_type": "code",
   "execution_count": null,
   "metadata": {
    "collapsed": true
   },
   "outputs": [],
   "source": [
    "input_tuples = list( product(ratings_matrix.R_ui.index, ratings_matrix.R_ui.columns) )\n",
    "country_ids, song_ids = zip(*input_tuples)\n",
    "\n",
    "ratings_df = pd.DataFrame({\n",
    "    'country_id': country_ids,\n",
    "    'song_id': song_ids,\n",
    "    'train_rating': TRAINING_MATRIX.R_ui.values.flatten(),\n",
    "    'validation_rating': VALIDATION_MATRIX.R_ui.values.flatten(),\n",
    "})"
   ]
  },
  {
   "cell_type": "code",
   "execution_count": null,
   "metadata": {},
   "outputs": [],
   "source": [
    "ratings_df = ratings_df.join(song_metadata_df, on='song_id', how='inner').sort_index()\n",
    "ratings_df['country_index'] = ratings_df['country_id'].map(country_id_to_index.get)"
   ]
  },
  {
   "cell_type": "code",
   "execution_count": null,
   "metadata": {
    "collapsed": true
   },
   "outputs": [],
   "source": [
    "n_countries = ratings_df['country_index'].nunique()\n",
    "n_songs = ratings_df['song_index'].nunique()"
   ]
  },
  {
   "cell_type": "markdown",
   "metadata": {},
   "source": [
    "# a function to rearrange our predictions"
   ]
  },
  {
   "cell_type": "code",
   "execution_count": null,
   "metadata": {
    "collapsed": true
   },
   "outputs": [],
   "source": [
    "def generate_predictions(model, inputs, ratings_df=ratings_df):\n",
    "    predictions = model.predict(x=inputs)\n",
    "    return pd.DataFrame({\n",
    "        'prediction': predictions.flatten(),\n",
    "        'country_id': ratings_df['country_id'],\n",
    "        'song_id': ratings_df['song_id']\n",
    "    }).pivot('country_id', 'song_id', 'prediction')"
   ]
  },
  {
   "cell_type": "code",
   "execution_count": null,
   "metadata": {},
   "outputs": [],
   "source": [
    "def evaluate_predictions(predictions, training_matrix=TRAINING_MATRIX, validation_matrix=VALIDATION_MATRIX):\n",
    "    evaluator = ExpectedPercentileRankingsEvaluator(\n",
    "        training_matrix=training_matrix,\n",
    "        validation_matrix=validation_matrix,\n",
    "        predicted_preferences=predictions\n",
    "    )\n",
    "    evaluator.run()\n",
    "    print('Train: {}'.format(np.mean(evaluator.expected_percentile_rankings_train)))\n",
    "    print('Validation: {}'.format(np.mean(evaluator.expected_percentile_rankings_validation)))"
   ]
  },
  {
   "cell_type": "markdown",
   "metadata": {},
   "source": [
    "# first model"
   ]
  },
  {
   "cell_type": "code",
   "execution_count": null,
   "metadata": {},
   "outputs": [],
   "source": [
    "country_input = Input(shape=(1,), dtype='int64', name='country')\n",
    "country_embedding = Embedding(input_dim=n_countries, output_dim=F, embeddings_regularizer=l2(lmbda))(country_input)\n",
    "\n",
    "song_input = Input(shape=(1,), dtype='int64', name='song')\n",
    "song_embedding = Embedding(input_dim=n_songs, output_dim=F, embeddings_regularizer=l2(lmbda))(song_input)\n",
    "\n",
    "predicted_preference = dot(inputs=[country_embedding, song_embedding], axes=2)\n",
    "predicted_preference = Flatten()(predicted_preference)"
   ]
  },
  {
   "cell_type": "code",
   "execution_count": null,
   "metadata": {},
   "outputs": [],
   "source": [
    "model = Model(inputs=[country_input, song_input], outputs=predicted_preference)\n",
    "model.compile(loss=implicit_cf_loss, optimizer=Adam(lr=LEARNING_RATE))"
   ]
  },
  {
   "cell_type": "code",
   "execution_count": null,
   "metadata": {},
   "outputs": [],
   "source": [
    "inputs = [ratings_df['country_index'], ratings_df['song_index']]\n",
    "\n",
    "model.fit(\n",
    "    x=inputs,\n",
    "    y=ratings_df['train_rating'],\n",
    "    batch_size=256, \n",
    "    epochs=5,\n",
    "    validation_data=(inputs, ratings_df['validation_rating'])\n",
    ")"
   ]
  },
  {
   "cell_type": "code",
   "execution_count": null,
   "metadata": {},
   "outputs": [],
   "source": [
    "predictions = generate_predictions(model=model, inputs=inputs)\n",
    "evaluate_predictions(predictions)"
   ]
  },
  {
   "cell_type": "markdown",
   "metadata": {},
   "source": [
    "# add bias terms"
   ]
  },
  {
   "cell_type": "code",
   "execution_count": null,
   "metadata": {},
   "outputs": [],
   "source": [
    "country_bias = Embedding(input_dim=n_countries, output_dim=1, name='country_bias', input_length=1)(country_input)\n",
    "song_bias = Embedding(input_dim=n_songs, output_dim=1, name='song_bias', input_length=1)(song_input)\n",
    "\n",
    "country_bias = Flatten()(country_bias)\n",
    "song_bias = Flatten()(song_bias)\n",
    "\n",
    "predicted_preference = add(inputs=[predicted_preference, country_bias])\n",
    "predicted_preference = add(inputs=[predicted_preference, song_bias])"
   ]
  },
  {
   "cell_type": "code",
   "execution_count": null,
   "metadata": {},
   "outputs": [],
   "source": [
    "model = Model(inputs=[country_input, song_input], outputs=predicted_preference)\n",
    "model.compile(loss=implicit_cf_loss, optimizer=Adam(lr=LEARNING_RATE))"
   ]
  },
  {
   "cell_type": "code",
   "execution_count": null,
   "metadata": {},
   "outputs": [],
   "source": [
    "inputs = [ratings_df['country_index'], ratings_df['song_index']]\n",
    "\n",
    "model.fit(\n",
    "    x=inputs,\n",
    "    y=ratings_df['train_rating'],\n",
    "    batch_size=256, \n",
    "    epochs=10,\n",
    "    validation_data=(inputs, ratings_df['validation_rating'])\n",
    ")"
   ]
  },
  {
   "cell_type": "code",
   "execution_count": null,
   "metadata": {},
   "outputs": [],
   "source": [
    "predictions = generate_predictions(model=model, inputs=inputs)\n",
    "evaluate_predictions(predictions)"
   ]
  },
  {
   "cell_type": "markdown",
   "metadata": {},
   "source": [
    "# the full model with biases and more layers"
   ]
  },
  {
   "cell_type": "code",
   "execution_count": null,
   "metadata": {},
   "outputs": [],
   "source": [
    "country_input = Input(shape=(1,), dtype='int64', name='country')\n",
    "song_input = Input(shape=(1,), dtype='int64', name='song')\n",
    "\n",
    "country_embedding = Embedding(input_dim=n_countries, output_dim=F, embeddings_regularizer=l2(lmbda))(country_input)\n",
    "song_embedding = Embedding(input_dim=n_songs, output_dim=F, embeddings_regularizer=l2(lmbda))(song_input)\n",
    "\n",
    "country_bias = Embedding(input_dim=n_countries, output_dim=1, name='country_bias', input_length=1)(country_input)\n",
    "song_bias = Embedding(input_dim=n_songs, output_dim=1, name='song_bias', input_length=1)(song_input)\n",
    "\n",
    "concatenation = concatenate([country_embedding, song_embedding])\n",
    "\n",
    "dense_layer = Dense(activation='relu', units=10)(concatenation)\n",
    "dropout = Dropout(.5)(dense_layer)\n",
    "batch_norm = BatchNormalization()(dropout)\n",
    "dense_layer = Dense(activation='relu', units=10)(batch_norm)\n",
    "batch_norm = BatchNormalization()(dense_layer)\n",
    "dense_layer = Dense(activation='relu', units=10)(batch_norm)\n",
    "batch_norm = BatchNormalization()(dense_layer)\n",
    "\n",
    "predicted_preference = Dense(units=1, name='predicted_preference')(batch_norm)\n",
    "predicted_preference = Flatten()(predicted_preference)\n",
    "\n",
    "country_bias = Flatten()(country_bias)\n",
    "song_bias = Flatten()(song_bias)\n",
    "\n",
    "predicted_preference = add(inputs=[predicted_preference, country_bias])\n",
    "predicted_preference = add(inputs=[predicted_preference, song_bias])"
   ]
  },
  {
   "cell_type": "code",
   "execution_count": null,
   "metadata": {},
   "outputs": [],
   "source": [
    "model = Model(inputs=[country_input, song_input], outputs=predicted_preference)\n",
    "model.compile(loss=implicit_cf_loss, optimizer=Adam(lr=LEARNING_RATE))"
   ]
  },
  {
   "cell_type": "code",
   "execution_count": null,
   "metadata": {
    "scrolled": false
   },
   "outputs": [],
   "source": [
    "inputs = [ratings_df['country_index'], ratings_df['song_index']]\n",
    "\n",
    "model.fit(\n",
    "    x=inputs,\n",
    "    y=ratings_df['train_rating'],\n",
    "    batch_size=256, \n",
    "    epochs=10,\n",
    "    validation_data=(inputs, ratings_df['validation_rating'])\n",
    ")"
   ]
  },
  {
   "cell_type": "code",
   "execution_count": null,
   "metadata": {},
   "outputs": [],
   "source": [
    "predictions = generate_predictions(model=model, inputs=inputs)\n",
    "evaluate_predictions(predictions)"
   ]
  },
  {
   "cell_type": "markdown",
   "metadata": {},
   "source": [
    "# flip it around"
   ]
  },
  {
   "cell_type": "code",
   "execution_count": null,
   "metadata": {},
   "outputs": [],
   "source": [
    "country_input = Input(shape=(1,), dtype='int64', name='country')\n",
    "song_input = Input(shape=(1,), dtype='int64', name='song')\n",
    "\n",
    "country_embedding = Embedding(input_dim=n_countries, output_dim=F, embeddings_regularizer=l2(lmbda))(country_input)\n",
    "song_embedding = Embedding(input_dim=n_songs, output_dim=F, embeddings_regularizer=l2(lmbda))(song_input)\n",
    "\n",
    "country_bias = Embedding(input_dim=n_countries, output_dim=1, name='country_bias', input_length=1)(country_input)\n",
    "song_bias = Embedding(input_dim=n_songs, output_dim=1, name='song_bias', input_length=1)(song_input)\n",
    "\n",
    "dense_layer_1_country = Dense(activation='relu', units=F)(country_embedding)\n",
    "dense_layer_1_song = Dense(activation='relu', units=F)(song_embedding)\n",
    "dense_layer_2_country = Dense(activation='relu', units=F)(dense_layer_1_country)\n",
    "dense_layer_2_song = Dense(activation='relu', units=F)(dense_layer_1_song)\n",
    "dense_layer_2_country = BatchNormalization()(dense_layer_2_country)\n",
    "dense_layer_2_song = BatchNormalization()(dense_layer_2_song)\n",
    "dense_layer_3_country = Dense(activation='linear', units=F, activity_regularizer=l2(lmbda))(dense_layer_2_country)\n",
    "dense_layer_3_song = Dense(activation='linear', units=F, activity_regularizer=l2(lmbda))(dense_layer_2_song)\n",
    "\n",
    "predicted_preference = dot(inputs=[dense_layer_3_country, dense_layer_3_song], axes=2)\n",
    "predicted_preference = Flatten()(predicted_preference)\n",
    "\n",
    "country_bias = Flatten()(country_bias)\n",
    "song_bias = Flatten()(song_bias)\n",
    "\n",
    "predicted_preference = add(inputs=[predicted_preference, country_bias])\n",
    "predicted_preference = add(inputs=[predicted_preference, song_bias])"
   ]
  },
  {
   "cell_type": "code",
   "execution_count": null,
   "metadata": {
    "collapsed": true
   },
   "outputs": [],
   "source": [
    "model = Model(inputs=[country_input, song_input], outputs=predicted_preference)\n",
    "model.compile(loss=implicit_cf_loss, optimizer=Adam(lr=LEARNING_RATE))"
   ]
  },
  {
   "cell_type": "code",
   "execution_count": null,
   "metadata": {},
   "outputs": [],
   "source": [
    "inputs = [ratings_df['country_index'], ratings_df['song_index']]\n",
    "\n",
    "model.fit(\n",
    "    x=inputs,\n",
    "    y=ratings_df['train_rating'],\n",
    "    batch_size=256, \n",
    "    epochs=10,\n",
    "    validation_data=(inputs, ratings_df['validation_rating'])\n",
    ")"
   ]
  },
  {
   "cell_type": "code",
   "execution_count": null,
   "metadata": {
    "collapsed": true
   },
   "outputs": [],
   "source": [
    "predictions = generate_predictions(model=model, inputs=inputs)\n",
    "evaluate_predictions(predictions)"
   ]
  },
  {
   "cell_type": "markdown",
   "metadata": {},
   "source": [
    "# feed in the text as well"
   ]
  },
  {
   "cell_type": "code",
   "execution_count": null,
   "metadata": {},
   "outputs": [],
   "source": [
    "MAX_SEQUENCE_LENGTH = ratings_df['title_sequence'].map(len).max()\n",
    "\n",
    "padded_title_sequences = pad_sequences(sequences=ratings_df['title_sequence'], maxlen=MAX_SEQUENCE_LENGTH)"
   ]
  },
  {
   "cell_type": "code",
   "execution_count": null,
   "metadata": {
    "collapsed": true
   },
   "outputs": [],
   "source": [
    "title_input = Input(shape=(MAX_SEQUENCE_LENGTH,), dtype='int32', name='song_title_sequence')\n",
    "title_embedding = Embedding(output_dim=F, input_dim=NUM_WORDS, input_length=MAX_SEQUENCE_LENGTH)(title_input)\n",
    "title_lstm = LSTM(F)(title_embedding)\n",
    "dense_title_lstm = Dense(units=1, activation='relu')(title_lstm)"
   ]
  },
  {
   "cell_type": "code",
   "execution_count": null,
   "metadata": {},
   "outputs": [],
   "source": [
    "country_input = Input(shape=(1,), dtype='int64', name='country')\n",
    "country_embedding = Embedding(input_dim=n_countries, output_dim=F, embeddings_regularizer=l2(lmbda))(country_input)\n",
    "\n",
    "song_input = Input(shape=(1,), dtype='int64', name='song')\n",
    "song_embedding = Embedding(input_dim=n_songs, output_dim=F, embeddings_regularizer=l2(lmbda))(song_input)\n",
    "\n",
    "predicted_preference = dot(inputs=[country_embedding, song_embedding], axes=2)\n",
    "predicted_preference = Flatten()(predicted_preference)\n",
    "\n",
    "country_bias = Embedding(input_dim=n_countries, output_dim=1, name='country_bias', input_length=1)(country_input)\n",
    "song_bias = Embedding(input_dim=n_songs, output_dim=1, name='song_bias', input_length=1)(song_input)\n",
    "\n",
    "country_bias = Flatten()(country_bias)\n",
    "song_bias = Flatten()(song_bias)\n",
    "\n",
    "predicted_preference = add(inputs=[predicted_preference, country_bias])\n",
    "predicted_preference = add(inputs=[predicted_preference, song_bias])\n",
    "\n",
    "predicted_preference_merge = concatenate(inputs=[predicted_preference, dense_title_lstm])\n",
    "final_output = Dense(activation='linear', units=1)(predicted_preference_merge)"
   ]
  },
  {
   "cell_type": "code",
   "execution_count": null,
   "metadata": {},
   "outputs": [],
   "source": [
    "model = Model(inputs=[country_input, song_input, title_input], outputs=final_output)\n",
    "model.compile(loss=implicit_cf_loss, optimizer=Adam(lr=LEARNING_RATE))"
   ]
  },
  {
   "cell_type": "code",
   "execution_count": null,
   "metadata": {},
   "outputs": [],
   "source": [
    "inputs = [ratings_df['country_index'], ratings_df['song_index'], padded_title_sequences]\n",
    "\n",
    "model.fit(\n",
    "    x=inputs,\n",
    "    y=ratings_df['train_rating'],\n",
    "    batch_size=256, \n",
    "    epochs=10,\n",
    "    validation_data=(inputs, ratings_df['validation_rating'])\n",
    ")"
   ]
  },
  {
   "cell_type": "code",
   "execution_count": null,
   "metadata": {},
   "outputs": [],
   "source": [
    "predictions = generate_predictions(model=model, inputs=inputs)\n",
    "evaluate_predictions(predictions)"
   ]
  },
  {
   "cell_type": "markdown",
   "metadata": {},
   "source": [
    "# finally, add the artist in there"
   ]
  },
  {
   "cell_type": "code",
   "execution_count": null,
   "metadata": {
    "collapsed": true
   },
   "outputs": [],
   "source": [
    "n_artists = ratings_df['song_artist_index'].nunique()"
   ]
  },
  {
   "cell_type": "code",
   "execution_count": null,
   "metadata": {},
   "outputs": [],
   "source": [
    "artist_input = Input(shape=(1,), dtype='int64', name='artist')\n",
    "artist_embedding = Embedding(input_dim=n_artists, output_dim=F, embeddings_regularizer=l2(lmbda))(artist_input)\n",
    "dense_artist_embedding = Dense(units=1, activation='relu')(artist_embedding)\n",
    "dense_artist_embedding = Flatten()(dense_artist_embedding)\n",
    "\n",
    "predicted_preference_merge = concatenate(inputs=[predicted_preference, dense_title_lstm, dense_artist_embedding])\n",
    "final_output = Dense(activation='linear', units=1)(predicted_preference_merge)"
   ]
  },
  {
   "cell_type": "code",
   "execution_count": null,
   "metadata": {
    "collapsed": true
   },
   "outputs": [],
   "source": [
    "model = Model(inputs=[country_input, song_input, title_input, artist_input], outputs=final_output)\n",
    "model.compile(loss=implicit_cf_loss, optimizer=Adam(lr=LEARNING_RATE))"
   ]
  },
  {
   "cell_type": "code",
   "execution_count": null,
   "metadata": {},
   "outputs": [],
   "source": [
    "inputs = [\n",
    "    ratings_df['country_index'], \n",
    "    ratings_df['song_index'], \n",
    "    padded_title_sequences, \n",
    "    ratings_df['song_artist_index']\n",
    "]\n",
    "\n",
    "model.fit(\n",
    "    x=inputs,\n",
    "    y=ratings_df['train_rating'],\n",
    "    batch_size=256, \n",
    "    epochs=10,\n",
    "    validation_data=(inputs, ratings_df['validation_rating'])\n",
    ")"
   ]
  },
  {
   "cell_type": "code",
   "execution_count": null,
   "metadata": {},
   "outputs": [],
   "source": [
    "predictions = generate_predictions(model=model, inputs=inputs)\n",
    "evaluate_predictions(predictions)"
   ]
  }
 ],
 "metadata": {
  "kernelspec": {
   "display_name": "Python 3",
   "language": "python",
   "name": "python3"
  },
  "language_info": {
   "codemirror_mode": {
    "name": "ipython",
    "version": 3
   },
   "file_extension": ".py",
   "mimetype": "text/x-python",
   "name": "python",
   "nbconvert_exporter": "python",
   "pygments_lexer": "ipython3",
   "version": "3.5.1"
  }
 },
 "nbformat": 4,
 "nbformat_minor": 1
}
