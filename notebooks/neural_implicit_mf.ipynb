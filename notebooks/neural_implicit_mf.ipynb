{
 "cells": [
  {
   "cell_type": "code",
   "execution_count": 1,
   "metadata": {
    "collapsed": true
   },
   "outputs": [],
   "source": [
    "%load_ext autoreload\n",
    "%autoreload 2"
   ]
  },
  {
   "cell_type": "code",
   "execution_count": 2,
   "metadata": {
    "collapsed": false
   },
   "outputs": [
    {
     "name": "stdout",
     "output_type": "stream",
     "text": [
      "/Users/willwolf/Documents/willwolf/dotify\n"
     ]
    }
   ],
   "source": [
    "cd .."
   ]
  },
  {
   "cell_type": "code",
   "execution_count": 4,
   "metadata": {
    "collapsed": true
   },
   "outputs": [],
   "source": [
    "# delete this eventually\n",
    "\n",
    "import os\n",
    "\n",
    "os.environ['SQLALCHEMY_DATABASE_URI'] = os.environ['DIGITAL_OCEAN_SQLALCHEMY_DATABASE_URI']"
   ]
  },
  {
   "cell_type": "code",
   "execution_count": 100,
   "metadata": {
    "collapsed": true
   },
   "outputs": [],
   "source": [
    "from sklearn.metrics.pairwise import cosine_similarity"
   ]
  },
  {
   "cell_type": "code",
   "execution_count": 17,
   "metadata": {
    "collapsed": false
   },
   "outputs": [],
   "source": [
    "import matplotlib.pyplot as plt\n",
    "import numpy as np\n",
    "import pandas as pd\n",
    "import seaborn as sns\n",
    "from sklearn.metrics.pairwise import euclidean_distances\n",
    "from sqlalchemy import create_engine\n",
    "\n",
    "from dotify.config import DevelopmentConfig as Config\n",
    "from dotify.recommendation.implicit_mf.ratings_matrix import RatingsMatrix\n",
    "from dotify.recommendation.implicit_mf.implicit_mf import ImplicitMF\n",
    "\n",
    "ENGINE = create_engine(Config.SQLALCHEMY_DATABASE_URI)\n",
    "\n",
    "%matplotlib inline"
   ]
  },
  {
   "cell_type": "code",
   "execution_count": null,
   "metadata": {
    "collapsed": true
   },
   "outputs": [],
   "source": [
    "# def save_array(file_name, array):\n",
    "#     c_array = bcolz.carray(array, rootdir=file_name, mode='w')\n",
    "#     c_array.flush()\n",
    "\n",
    "\n",
    "# def load_array(file_name):\n",
    "#     return bcolz.open(file_name)[:]"
   ]
  },
  {
   "cell_type": "code",
   "execution_count": 7,
   "metadata": {
    "collapsed": false
   },
   "outputs": [],
   "source": [
    "ratings_matrix = RatingsMatrix(n_top_songs=10000)"
   ]
  },
  {
   "cell_type": "code",
   "execution_count": 11,
   "metadata": {
    "collapsed": true
   },
   "outputs": [],
   "source": [
    "F = 30\n",
    "ALPHA = 1\n",
    "LAMBDA = 25"
   ]
  },
  {
   "cell_type": "code",
   "execution_count": 18,
   "metadata": {
    "collapsed": true
   },
   "outputs": [],
   "source": [
    "implicit_mf = ImplicitMF(ratings_matrix=RatingsMatrix(), f=F, alpha=ALPHA, lmbda=LAMBDA)"
   ]
  },
  {
   "cell_type": "code",
   "execution_count": 19,
   "metadata": {
    "collapsed": false
   },
   "outputs": [
    {
     "name": "stdout",
     "output_type": "stream",
     "text": [
      "(55, 30)\n",
      "(25357, 30)\n"
     ]
    }
   ],
   "source": [
    "print(implicit_mf.country_vectors.vectors.shape)\n",
    "print(implicit_mf.song_vectors.vectors.shape)"
   ]
  },
  {
   "cell_type": "code",
   "execution_count": 20,
   "metadata": {
    "collapsed": false
   },
   "outputs": [
    {
     "name": "stdout",
     "output_type": "stream",
     "text": [
      "0\n",
      "1\n",
      "2\n",
      "3\n",
      "4\n",
      "5\n",
      "6\n",
      "7\n",
      "8\n",
      "9\n"
     ]
    }
   ],
   "source": [
    "implicit_mf.run()"
   ]
  },
  {
   "cell_type": "code",
   "execution_count": 114,
   "metadata": {
    "collapsed": false
   },
   "outputs": [],
   "source": [
    "# implicit_mf.country_vectors.vectors.to_csv('data/country_vectors.csv')\n",
    "# implicit_mf.song_vectors.vectors.to_csv('data/song_vectors.csv')\n",
    "implicit_mf.country_vectors.vectors = pd.read_csv('data/country_vectors.csv', index_col=['country_id'])\n",
    "implicit_mf.song_vectors.vectors = pd.read_csv('data/song_vectors.csv', index_col=['song_id'])"
   ]
  },
  {
   "cell_type": "code",
   "execution_count": null,
   "metadata": {
    "collapsed": true
   },
   "outputs": [],
   "source": [
    "# inspect results"
   ]
  },
  {
   "cell_type": "markdown",
   "metadata": {
    "collapsed": true
   },
   "source": [
    "## Visualize"
   ]
  },
  {
   "cell_type": "code",
   "execution_count": 111,
   "metadata": {
    "collapsed": false
   },
   "outputs": [
    {
     "data": {
      "text/html": [
       "<div>\n",
       "<table border=\"1\" class=\"dataframe\">\n",
       "  <thead>\n",
       "    <tr style=\"text-align: right;\">\n",
       "      <th></th>\n",
       "      <th>dim_0</th>\n",
       "      <th>dim_1</th>\n",
       "      <th>dim_2</th>\n",
       "      <th>dim_3</th>\n",
       "      <th>dim_4</th>\n",
       "      <th>dim_5</th>\n",
       "      <th>dim_6</th>\n",
       "      <th>dim_7</th>\n",
       "      <th>dim_8</th>\n",
       "      <th>dim_9</th>\n",
       "      <th>...</th>\n",
       "      <th>dim_20</th>\n",
       "      <th>dim_21</th>\n",
       "      <th>dim_22</th>\n",
       "      <th>dim_23</th>\n",
       "      <th>dim_24</th>\n",
       "      <th>dim_25</th>\n",
       "      <th>dim_26</th>\n",
       "      <th>dim_27</th>\n",
       "      <th>dim_28</th>\n",
       "      <th>dim_29</th>\n",
       "    </tr>\n",
       "    <tr>\n",
       "      <th>country_name</th>\n",
       "      <th></th>\n",
       "      <th></th>\n",
       "      <th></th>\n",
       "      <th></th>\n",
       "      <th></th>\n",
       "      <th></th>\n",
       "      <th></th>\n",
       "      <th></th>\n",
       "      <th></th>\n",
       "      <th></th>\n",
       "      <th></th>\n",
       "      <th></th>\n",
       "      <th></th>\n",
       "      <th></th>\n",
       "      <th></th>\n",
       "      <th></th>\n",
       "      <th></th>\n",
       "      <th></th>\n",
       "      <th></th>\n",
       "      <th></th>\n",
       "      <th></th>\n",
       "    </tr>\n",
       "  </thead>\n",
       "  <tbody>\n",
       "    <tr>\n",
       "      <th>United States</th>\n",
       "      <td>1.199533</td>\n",
       "      <td>0.805071</td>\n",
       "      <td>-1.701547</td>\n",
       "      <td>1.053904</td>\n",
       "      <td>0.507967</td>\n",
       "      <td>-0.842553</td>\n",
       "      <td>-0.700260</td>\n",
       "      <td>-1.435701</td>\n",
       "      <td>0.220028</td>\n",
       "      <td>-0.047097</td>\n",
       "      <td>...</td>\n",
       "      <td>2.310619</td>\n",
       "      <td>1.289404</td>\n",
       "      <td>-0.493658</td>\n",
       "      <td>0.185296</td>\n",
       "      <td>-0.611855</td>\n",
       "      <td>-2.279349</td>\n",
       "      <td>-1.221629</td>\n",
       "      <td>-2.486846</td>\n",
       "      <td>-1.509292</td>\n",
       "      <td>0.634107</td>\n",
       "    </tr>\n",
       "    <tr>\n",
       "      <th>United Kingdom</th>\n",
       "      <td>1.657513</td>\n",
       "      <td>1.186152</td>\n",
       "      <td>1.109628</td>\n",
       "      <td>-0.539622</td>\n",
       "      <td>0.308465</td>\n",
       "      <td>-0.425653</td>\n",
       "      <td>-1.427701</td>\n",
       "      <td>-0.964977</td>\n",
       "      <td>1.845865</td>\n",
       "      <td>-1.449298</td>\n",
       "      <td>...</td>\n",
       "      <td>-0.198157</td>\n",
       "      <td>1.489509</td>\n",
       "      <td>-2.361668</td>\n",
       "      <td>0.528493</td>\n",
       "      <td>2.023884</td>\n",
       "      <td>-0.809309</td>\n",
       "      <td>0.466260</td>\n",
       "      <td>0.797203</td>\n",
       "      <td>-0.102998</td>\n",
       "      <td>0.774133</td>\n",
       "    </tr>\n",
       "    <tr>\n",
       "      <th>Argentina</th>\n",
       "      <td>-0.361324</td>\n",
       "      <td>0.715569</td>\n",
       "      <td>0.095872</td>\n",
       "      <td>-0.763642</td>\n",
       "      <td>0.500045</td>\n",
       "      <td>-0.622255</td>\n",
       "      <td>0.453800</td>\n",
       "      <td>-1.494433</td>\n",
       "      <td>1.056581</td>\n",
       "      <td>0.578316</td>\n",
       "      <td>...</td>\n",
       "      <td>-0.842486</td>\n",
       "      <td>1.196757</td>\n",
       "      <td>0.780113</td>\n",
       "      <td>-1.784573</td>\n",
       "      <td>1.788248</td>\n",
       "      <td>0.490548</td>\n",
       "      <td>-1.354775</td>\n",
       "      <td>-0.643397</td>\n",
       "      <td>-0.199454</td>\n",
       "      <td>0.611466</td>\n",
       "    </tr>\n",
       "    <tr>\n",
       "      <th>Australia</th>\n",
       "      <td>0.922620</td>\n",
       "      <td>0.629252</td>\n",
       "      <td>-1.982874</td>\n",
       "      <td>-1.084756</td>\n",
       "      <td>-2.172330</td>\n",
       "      <td>-2.105921</td>\n",
       "      <td>-0.152939</td>\n",
       "      <td>0.699596</td>\n",
       "      <td>0.577632</td>\n",
       "      <td>1.760455</td>\n",
       "      <td>...</td>\n",
       "      <td>-0.363781</td>\n",
       "      <td>0.365383</td>\n",
       "      <td>-1.395616</td>\n",
       "      <td>-0.465801</td>\n",
       "      <td>-0.865641</td>\n",
       "      <td>-0.234164</td>\n",
       "      <td>0.291409</td>\n",
       "      <td>0.233215</td>\n",
       "      <td>-0.346712</td>\n",
       "      <td>1.232901</td>\n",
       "    </tr>\n",
       "    <tr>\n",
       "      <th>Austria</th>\n",
       "      <td>0.227114</td>\n",
       "      <td>0.694578</td>\n",
       "      <td>-0.146239</td>\n",
       "      <td>2.021938</td>\n",
       "      <td>0.581785</td>\n",
       "      <td>-0.909703</td>\n",
       "      <td>-1.525334</td>\n",
       "      <td>1.014610</td>\n",
       "      <td>-0.052186</td>\n",
       "      <td>-0.894440</td>\n",
       "      <td>...</td>\n",
       "      <td>-0.833079</td>\n",
       "      <td>-2.148726</td>\n",
       "      <td>-1.320359</td>\n",
       "      <td>-0.905628</td>\n",
       "      <td>0.571474</td>\n",
       "      <td>-1.350109</td>\n",
       "      <td>-0.591159</td>\n",
       "      <td>0.548953</td>\n",
       "      <td>-0.458362</td>\n",
       "      <td>0.062614</td>\n",
       "    </tr>\n",
       "  </tbody>\n",
       "</table>\n",
       "<p>5 rows × 30 columns</p>\n",
       "</div>"
      ],
      "text/plain": [
       "                   dim_0     dim_1     dim_2     dim_3     dim_4     dim_5  \\\n",
       "country_name                                                                 \n",
       "United States   1.199533  0.805071 -1.701547  1.053904  0.507967 -0.842553   \n",
       "United Kingdom  1.657513  1.186152  1.109628 -0.539622  0.308465 -0.425653   \n",
       "Argentina      -0.361324  0.715569  0.095872 -0.763642  0.500045 -0.622255   \n",
       "Australia       0.922620  0.629252 -1.982874 -1.084756 -2.172330 -2.105921   \n",
       "Austria         0.227114  0.694578 -0.146239  2.021938  0.581785 -0.909703   \n",
       "\n",
       "                   dim_6     dim_7     dim_8     dim_9    ...       dim_20  \\\n",
       "country_name                                              ...                \n",
       "United States  -0.700260 -1.435701  0.220028 -0.047097    ...     2.310619   \n",
       "United Kingdom -1.427701 -0.964977  1.845865 -1.449298    ...    -0.198157   \n",
       "Argentina       0.453800 -1.494433  1.056581  0.578316    ...    -0.842486   \n",
       "Australia      -0.152939  0.699596  0.577632  1.760455    ...    -0.363781   \n",
       "Austria        -1.525334  1.014610 -0.052186 -0.894440    ...    -0.833079   \n",
       "\n",
       "                  dim_21    dim_22    dim_23    dim_24    dim_25    dim_26  \\\n",
       "country_name                                                                 \n",
       "United States   1.289404 -0.493658  0.185296 -0.611855 -2.279349 -1.221629   \n",
       "United Kingdom  1.489509 -2.361668  0.528493  2.023884 -0.809309  0.466260   \n",
       "Argentina       1.196757  0.780113 -1.784573  1.788248  0.490548 -1.354775   \n",
       "Australia       0.365383 -1.395616 -0.465801 -0.865641 -0.234164  0.291409   \n",
       "Austria        -2.148726 -1.320359 -0.905628  0.571474 -1.350109 -0.591159   \n",
       "\n",
       "                  dim_27    dim_28    dim_29  \n",
       "country_name                                  \n",
       "United States  -2.486846 -1.509292  0.634107  \n",
       "United Kingdom  0.797203 -0.102998  0.774133  \n",
       "Argentina      -0.643397 -0.199454  0.611466  \n",
       "Australia       0.233215 -0.346712  1.232901  \n",
       "Austria         0.548953 -0.458362  0.062614  \n",
       "\n",
       "[5 rows x 30 columns]"
      ]
     },
     "execution_count": 111,
     "metadata": {},
     "output_type": "execute_result"
    }
   ],
   "source": [
    "implicit_mf.country_vectors.vectors.head()"
   ]
  },
  {
   "cell_type": "code",
   "execution_count": 24,
   "metadata": {
    "collapsed": false
   },
   "outputs": [
    {
     "data": {
      "text/html": [
       "<div>\n",
       "<table border=\"1\" class=\"dataframe\">\n",
       "  <thead>\n",
       "    <tr style=\"text-align: right;\">\n",
       "      <th></th>\n",
       "      <th>dim_0</th>\n",
       "      <th>dim_1</th>\n",
       "      <th>dim_2</th>\n",
       "      <th>dim_3</th>\n",
       "      <th>dim_4</th>\n",
       "      <th>dim_5</th>\n",
       "      <th>dim_6</th>\n",
       "      <th>dim_7</th>\n",
       "      <th>dim_8</th>\n",
       "      <th>dim_9</th>\n",
       "      <th>...</th>\n",
       "      <th>dim_20</th>\n",
       "      <th>dim_21</th>\n",
       "      <th>dim_22</th>\n",
       "      <th>dim_23</th>\n",
       "      <th>dim_24</th>\n",
       "      <th>dim_25</th>\n",
       "      <th>dim_26</th>\n",
       "      <th>dim_27</th>\n",
       "      <th>dim_28</th>\n",
       "      <th>dim_29</th>\n",
       "    </tr>\n",
       "    <tr>\n",
       "      <th>song_id</th>\n",
       "      <th></th>\n",
       "      <th></th>\n",
       "      <th></th>\n",
       "      <th></th>\n",
       "      <th></th>\n",
       "      <th></th>\n",
       "      <th></th>\n",
       "      <th></th>\n",
       "      <th></th>\n",
       "      <th></th>\n",
       "      <th></th>\n",
       "      <th></th>\n",
       "      <th></th>\n",
       "      <th></th>\n",
       "      <th></th>\n",
       "      <th></th>\n",
       "      <th></th>\n",
       "      <th></th>\n",
       "      <th></th>\n",
       "      <th></th>\n",
       "      <th></th>\n",
       "    </tr>\n",
       "  </thead>\n",
       "  <tbody>\n",
       "    <tr>\n",
       "      <th>5552</th>\n",
       "      <td>-0.077041</td>\n",
       "      <td>0.108355</td>\n",
       "      <td>-0.097699</td>\n",
       "      <td>0.155515</td>\n",
       "      <td>-0.095229</td>\n",
       "      <td>0.078845</td>\n",
       "      <td>-0.051036</td>\n",
       "      <td>-0.005292</td>\n",
       "      <td>0.169841</td>\n",
       "      <td>-0.083281</td>\n",
       "      <td>...</td>\n",
       "      <td>0.023157</td>\n",
       "      <td>0.072248</td>\n",
       "      <td>0.099295</td>\n",
       "      <td>0.005338</td>\n",
       "      <td>0.044581</td>\n",
       "      <td>-0.039196</td>\n",
       "      <td>-0.018968</td>\n",
       "      <td>-0.069020</td>\n",
       "      <td>0.029930</td>\n",
       "      <td>0.157775</td>\n",
       "    </tr>\n",
       "    <tr>\n",
       "      <th>5553</th>\n",
       "      <td>-0.094339</td>\n",
       "      <td>0.091163</td>\n",
       "      <td>-0.075031</td>\n",
       "      <td>0.210590</td>\n",
       "      <td>-0.134693</td>\n",
       "      <td>0.045414</td>\n",
       "      <td>-0.022887</td>\n",
       "      <td>0.001569</td>\n",
       "      <td>0.086351</td>\n",
       "      <td>-0.053027</td>\n",
       "      <td>...</td>\n",
       "      <td>0.024979</td>\n",
       "      <td>0.081063</td>\n",
       "      <td>0.119719</td>\n",
       "      <td>-0.000729</td>\n",
       "      <td>0.131279</td>\n",
       "      <td>-0.077077</td>\n",
       "      <td>-0.002516</td>\n",
       "      <td>-0.073528</td>\n",
       "      <td>0.046118</td>\n",
       "      <td>0.190829</td>\n",
       "    </tr>\n",
       "    <tr>\n",
       "      <th>5554</th>\n",
       "      <td>-0.090403</td>\n",
       "      <td>0.091216</td>\n",
       "      <td>-0.074708</td>\n",
       "      <td>0.208312</td>\n",
       "      <td>-0.132058</td>\n",
       "      <td>0.045682</td>\n",
       "      <td>-0.024401</td>\n",
       "      <td>0.001036</td>\n",
       "      <td>0.088304</td>\n",
       "      <td>-0.052268</td>\n",
       "      <td>...</td>\n",
       "      <td>0.023591</td>\n",
       "      <td>0.081062</td>\n",
       "      <td>0.116875</td>\n",
       "      <td>-0.003208</td>\n",
       "      <td>0.128440</td>\n",
       "      <td>-0.076629</td>\n",
       "      <td>-0.004486</td>\n",
       "      <td>-0.072347</td>\n",
       "      <td>0.043577</td>\n",
       "      <td>0.188794</td>\n",
       "    </tr>\n",
       "    <tr>\n",
       "      <th>5555</th>\n",
       "      <td>-0.082978</td>\n",
       "      <td>0.089974</td>\n",
       "      <td>-0.073077</td>\n",
       "      <td>0.204956</td>\n",
       "      <td>-0.128832</td>\n",
       "      <td>0.044359</td>\n",
       "      <td>-0.025805</td>\n",
       "      <td>0.000604</td>\n",
       "      <td>0.089665</td>\n",
       "      <td>-0.050472</td>\n",
       "      <td>...</td>\n",
       "      <td>0.021601</td>\n",
       "      <td>0.079641</td>\n",
       "      <td>0.112784</td>\n",
       "      <td>-0.008778</td>\n",
       "      <td>0.125857</td>\n",
       "      <td>-0.076733</td>\n",
       "      <td>-0.007947</td>\n",
       "      <td>-0.070830</td>\n",
       "      <td>0.039305</td>\n",
       "      <td>0.186027</td>\n",
       "    </tr>\n",
       "    <tr>\n",
       "      <th>5556</th>\n",
       "      <td>-0.082901</td>\n",
       "      <td>0.090079</td>\n",
       "      <td>-0.073140</td>\n",
       "      <td>0.204917</td>\n",
       "      <td>-0.128711</td>\n",
       "      <td>0.044592</td>\n",
       "      <td>-0.026017</td>\n",
       "      <td>0.000638</td>\n",
       "      <td>0.089910</td>\n",
       "      <td>-0.050329</td>\n",
       "      <td>...</td>\n",
       "      <td>0.021550</td>\n",
       "      <td>0.079760</td>\n",
       "      <td>0.112631</td>\n",
       "      <td>-0.008716</td>\n",
       "      <td>0.125574</td>\n",
       "      <td>-0.076613</td>\n",
       "      <td>-0.008091</td>\n",
       "      <td>-0.070707</td>\n",
       "      <td>0.039274</td>\n",
       "      <td>0.185886</td>\n",
       "    </tr>\n",
       "  </tbody>\n",
       "</table>\n",
       "<p>5 rows × 30 columns</p>\n",
       "</div>"
      ],
      "text/plain": [
       "            dim_0     dim_1     dim_2     dim_3     dim_4     dim_5     dim_6  \\\n",
       "song_id                                                                         \n",
       "5552    -0.077041  0.108355 -0.097699  0.155515 -0.095229  0.078845 -0.051036   \n",
       "5553    -0.094339  0.091163 -0.075031  0.210590 -0.134693  0.045414 -0.022887   \n",
       "5554    -0.090403  0.091216 -0.074708  0.208312 -0.132058  0.045682 -0.024401   \n",
       "5555    -0.082978  0.089974 -0.073077  0.204956 -0.128832  0.044359 -0.025805   \n",
       "5556    -0.082901  0.090079 -0.073140  0.204917 -0.128711  0.044592 -0.026017   \n",
       "\n",
       "            dim_7     dim_8     dim_9    ...       dim_20    dim_21    dim_22  \\\n",
       "song_id                                  ...                                    \n",
       "5552    -0.005292  0.169841 -0.083281    ...     0.023157  0.072248  0.099295   \n",
       "5553     0.001569  0.086351 -0.053027    ...     0.024979  0.081063  0.119719   \n",
       "5554     0.001036  0.088304 -0.052268    ...     0.023591  0.081062  0.116875   \n",
       "5555     0.000604  0.089665 -0.050472    ...     0.021601  0.079641  0.112784   \n",
       "5556     0.000638  0.089910 -0.050329    ...     0.021550  0.079760  0.112631   \n",
       "\n",
       "           dim_23    dim_24    dim_25    dim_26    dim_27    dim_28    dim_29  \n",
       "song_id                                                                        \n",
       "5552     0.005338  0.044581 -0.039196 -0.018968 -0.069020  0.029930  0.157775  \n",
       "5553    -0.000729  0.131279 -0.077077 -0.002516 -0.073528  0.046118  0.190829  \n",
       "5554    -0.003208  0.128440 -0.076629 -0.004486 -0.072347  0.043577  0.188794  \n",
       "5555    -0.008778  0.125857 -0.076733 -0.007947 -0.070830  0.039305  0.186027  \n",
       "5556    -0.008716  0.125574 -0.076613 -0.008091 -0.070707  0.039274  0.185886  \n",
       "\n",
       "[5 rows x 30 columns]"
      ]
     },
     "execution_count": 24,
     "metadata": {},
     "output_type": "execute_result"
    }
   ],
   "source": [
    "implicit_mf.song_vectors.vectors.head()"
   ]
  },
  {
   "cell_type": "code",
   "execution_count": 25,
   "metadata": {
    "collapsed": true
   },
   "outputs": [],
   "source": [
    "sns.set(style=\"white\")"
   ]
  },
  {
   "cell_type": "code",
   "execution_count": 119,
   "metadata": {
    "collapsed": false
   },
   "outputs": [],
   "source": [
    "from dotify.resources.countries import countries as countries_lookup\n",
    "\n",
    "\n",
    "country_id_to_name = {countries_lookup[name]['id']: name for name in countries_lookup}\n",
    "\n",
    "\n",
    "def replace_country_id_index_with_country_names(df):\n",
    "    country_ids = df.index\n",
    "    df.index = pd.Index([country_id_to_name[c_id] for c_id in country_ids], name='country_name')\n",
    "    return df\n",
    "\n",
    "\n",
    "def plot_cosine_similarities(countries_df):\n",
    "    \n",
    "    country_ids = countries_df.index\n",
    "    country_names = pd.Index([country_id_to_name[c_id] for c_id in country_ids], name='country_name')\n",
    "\n",
    "    # compute the cosine similarity matrix\n",
    "    similarities_df = pd.DataFrame(\n",
    "        data=cosine_similarity(countries_df),\n",
    "        index=country_names,\n",
    "        columns=country_names\n",
    "    )\n",
    "    \n",
    "    # generate a mask for the upper triangle\n",
    "    mask = np.zeros_like(similarities_df, dtype=np.bool)\n",
    "    mask[np.triu_indices_from(mask)] = True\n",
    "\n",
    "    # set up the matplotlib figure\n",
    "    f, ax = plt.subplots(figsize=(21, 21))\n",
    "\n",
    "    # generate a custom diverging colormap\n",
    "    cmap = sns.diverging_palette(220, 10, as_cmap=True)\n",
    "\n",
    "    # draw the heatmap with the mask and correct aspect ratio\n",
    "    sns.heatmap(similarities_df, mask=mask, cmap=cmap, vmax=.5,\n",
    "                square=True, xticklabels=True, yticklabels=True,\n",
    "                linewidths=1, cbar_kws={\"shrink\": .5}, ax=ax)"
   ]
  },
  {
   "cell_type": "code",
   "execution_count": 120,
   "metadata": {
    "collapsed": false,
    "scrolled": false
   },
   "outputs": [
    {
     "data": {
      "image/png": "[encoded data removed]",
      "text/plain": [
       "<matplotlib.figure.Figure at 0x127f17240>"
      ]
     },
     "metadata": {},
     "output_type": "display_data"
    }
   ],
   "source": [
    "plot_cosine_similarities(implicit_mf.country_vectors.vectors)"
   ]
  },
  {
   "cell_type": "markdown",
   "metadata": {},
   "source": [
    "## Inspect arithmetic combinations"
   ]
  },
  {
   "cell_type": "code",
   "execution_count": 221,
   "metadata": {
    "collapsed": false
   },
   "outputs": [],
   "source": [
    "SONG_VECTORS_QUERY = \"\"\"\n",
    "    SELECT \n",
    "        songs.title as song_title, \n",
    "        songs.artist as song_artist,\n",
    "        song_vectors.* \n",
    "    FROM song_vectors \n",
    "    JOIN songs ON songs.id = song_vectors.song_id\n",
    "\"\"\"\n",
    "\n",
    "song_vectors_df = pd.read_sql(SONG_VECTORS_QUERY, ENGINE, index_col=['song_title', 'song_artist'])\n",
    "song_vectors_df.drop('song_id', axis=1, inplace=True)"
   ]
  },
  {
   "cell_type": "code",
   "execution_count": 236,
   "metadata": {
    "collapsed": false
   },
   "outputs": [],
   "source": [
    "country_vec = country_vectors_df.ix['United States']"
   ]
  },
  {
   "cell_type": "code",
   "execution_count": 237,
   "metadata": {
    "collapsed": false,
    "scrolled": false
   },
   "outputs": [
    {
     "data": {
      "text/plain": [
       "song_title                                  song_artist  \n",
       "In My Room (feat. Ty Dolla $ign & Tyga)     Yellow Claw      0.991541\n",
       "The Fix                                     Nelly            0.988803\n",
       "We Don't Talk Anymore (feat. Selena Gomez)  Charlie Puth     0.988479\n",
       "Often                                       The Weeknd       0.988300\n",
       "Wild Things                                 Alessia Cara     0.987689\n",
       "Everyday                                    A$AP Rocky       0.987547\n",
       "Exchange                                    Bryson Tiller    0.987494\n",
       "Ophelia                                     The Lumineers    0.986675\n",
       "Antidote                                    Travi$ Scott     0.986539\n",
       "Love Yourself                               Justin Bieber    0.986213\n",
       "dtype: float64"
      ]
     },
     "execution_count": 237,
     "metadata": {},
     "output_type": "execute_result"
    }
   ],
   "source": [
    "song_vectors_df.apply(lambda vec: np.dot(vec, country_vec), axis=1).sort_values(ascending=False).head(10)"
   ]
  }
 ],
 "metadata": {
  "kernelspec": {
   "display_name": "Python 3",
   "language": "python",
   "name": "python3"
  },
  "language_info": {
   "codemirror_mode": {
    "name": "ipython",
    "version": 3
   },
   "file_extension": ".py",
   "mimetype": "text/x-python",
   "name": "python",
   "nbconvert_exporter": "python",
   "pygments_lexer": "ipython3",
   "version": "3.6.0"
  }
 },
 "nbformat": 4,
 "nbformat_minor": 0
}
